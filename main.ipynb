{
 "cells": [
  {
   "cell_type": "markdown",
   "id": "ec1bf8a8-ed2a-44de-96a9-4dbac069056b",
   "metadata": {},
   "source": [
    "# Main Task"
   ]
  },
  {
   "cell_type": "markdown",
   "id": "ac75aa4f-c762-4ea8-a9c6-785e8293a437",
   "metadata": {
    "jp-MarkdownHeadingCollapsed": true
   },
   "source": [
    "## Libraries"
   ]
  },
  {
   "cell_type": "code",
   "execution_count": 1,
   "id": "37295a18-7839-4a62-9934-4338f16bf209",
   "metadata": {
    "ExecuteTime": {
     "end_time": "2024-04-17T18:38:06.320758Z",
     "start_time": "2024-04-17T18:38:04.626746Z"
    }
   },
   "outputs": [
    {
     "name": "stdout",
     "output_type": "stream",
     "text": [
      "Requirement already satisfied: pyspark in /home/lotov2000/miniconda3/lib/python3.12/site-packages (3.5.1)\r\n",
      "Requirement already satisfied: py4j==0.10.9.7 in /home/lotov2000/miniconda3/lib/python3.12/site-packages (from pyspark) (0.10.9.7)\r\n"
     ]
    }
   ],
   "source": [
    "!pip install pyspark"
   ]
  },
  {
   "cell_type": "code",
   "execution_count": 2,
   "id": "c9b700d3-611e-422b-92d0-1503884e3b72",
   "metadata": {
    "ExecuteTime": {
     "end_time": "2024-04-17T18:38:06.743493Z",
     "start_time": "2024-04-17T18:38:06.322135Z"
    }
   },
   "outputs": [],
   "source": [
    "from pyspark.sql import SparkSession\n",
    "import pyspark.sql.functions as F\n",
    "import matplotlib.pyplot as plt"
   ]
  },
  {
   "cell_type": "markdown",
   "id": "bbee23a0-42de-42c2-ad93-1ed88171cb7a",
   "metadata": {
    "collapsed": true,
    "jp-MarkdownHeadingCollapsed": true
   },
   "source": [
    "## Instantiating SparkSession & Load the Dataset"
   ]
  },
  {
   "cell_type": "code",
   "execution_count": 3,
   "id": "0ec0fd18-f994-4223-bde2-3dd838d588c9",
   "metadata": {
    "ExecuteTime": {
     "end_time": "2024-04-17T18:38:08.907792Z",
     "start_time": "2024-04-17T18:38:06.744221Z"
    }
   },
   "outputs": [
    {
     "name": "stderr",
     "output_type": "stream",
     "text": [
      "24/04/17 22:08:07 WARN Utils: Your hostname, Yoda-plus resolves to a loopback address: 127.0.1.1; using 192.168.1.101 instead (on interface wlp0s20f3)\n",
      "24/04/17 22:08:07 WARN Utils: Set SPARK_LOCAL_IP if you need to bind to another address\n",
      "Setting default log level to \"WARN\".\n",
      "To adjust logging level use sc.setLogLevel(newLevel). For SparkR, use setLogLevel(newLevel).\n",
      "24/04/17 22:08:08 WARN NativeCodeLoader: Unable to load native-hadoop library for your platform... using builtin-java classes where applicable\n"
     ]
    }
   ],
   "source": [
    "spark = SparkSession.builder \\\n",
    "    .appName(\"Spotify Data Analysis\") \\\n",
    "    .getOrCreate()"
   ]
  },
  {
   "cell_type": "code",
   "execution_count": 4,
   "id": "a6860e0e-aac4-41dc-8201-8a0730b2c03a",
   "metadata": {
    "ExecuteTime": {
     "end_time": "2024-04-17T18:38:10.744432Z",
     "start_time": "2024-04-17T18:38:08.908712Z"
    }
   },
   "outputs": [],
   "source": [
    "df = spark.read.parquet(\"data/spotify.parquet\")"
   ]
  },
  {
   "cell_type": "markdown",
   "id": "8f88b38c-ff74-42cf-91ef-09541ba1b05e",
   "metadata": {},
   "source": [
    "## Check the Schema"
   ]
  },
  {
   "cell_type": "code",
   "execution_count": 5,
   "id": "92641b28-a07f-4833-9513-4ac1d2f295bc",
   "metadata": {
    "ExecuteTime": {
     "end_time": "2024-04-17T18:38:10.762228Z",
     "start_time": "2024-04-17T18:38:10.746315Z"
    }
   },
   "outputs": [
    {
     "name": "stdout",
     "output_type": "stream",
     "text": [
      "root\n",
      " |-- id: string (nullable = true)\n",
      " |-- name: string (nullable = true)\n",
      " |-- album: string (nullable = true)\n",
      " |-- album_id: string (nullable = true)\n",
      " |-- artists: string (nullable = true)\n",
      " |-- artist_ids: string (nullable = true)\n",
      " |-- track_number: long (nullable = true)\n",
      " |-- disc_number: long (nullable = true)\n",
      " |-- explicit: boolean (nullable = true)\n",
      " |-- danceability: double (nullable = true)\n",
      " |-- energy: double (nullable = true)\n",
      " |-- key: long (nullable = true)\n",
      " |-- loudness: double (nullable = true)\n",
      " |-- mode: long (nullable = true)\n",
      " |-- speechiness: double (nullable = true)\n",
      " |-- acousticness: double (nullable = true)\n",
      " |-- instrumentalness: double (nullable = true)\n",
      " |-- liveness: double (nullable = true)\n",
      " |-- valence: double (nullable = true)\n",
      " |-- tempo: double (nullable = true)\n",
      " |-- duration_ms: long (nullable = true)\n",
      " |-- time_signature: double (nullable = true)\n",
      " |-- year: long (nullable = true)\n",
      " |-- release_date: string (nullable = true)\n"
     ]
    }
   ],
   "source": [
    "df.printSchema()"
   ]
  },
  {
   "cell_type": "markdown",
   "id": "490bbb6d-ee32-442a-b514-336c76fb2735",
   "metadata": {},
   "source": [
    "\n",
    "\n",
    "1. **`id`**: The unique identifier for each track on Spotify. This is typically a string of characters that Spotify uses to uniquely identify a song in their system.\n",
    "\n",
    "2. **`name`**: The name of the track. This is a string that represents the title of the song.\n",
    "\n",
    "3. **`album`**: The name of the album on which the track appears. This helps in identifying collections of songs released together by an artist.\n",
    "\n",
    "4. **`album_id`**: Similar to the track ID, this is a unique identifier for the album. Useful for linking tracks to specific albums.\n",
    "\n",
    "5. **`artists`**: The name of the artist or artists who performed or created the track. This field might contain multiple names if the track has multiple artists.\n",
    "\n",
    "6. **`artist_ids`**: A unique identifier or identifiers for the artist or artists. Like `artists`, this can include multiple IDs separated by a delimiter if there are multiple artists.\n",
    "\n",
    "7. **`track_number`**: The track's position on its album. This is a numerical order of where the track appears on its respective album.\n",
    "\n",
    "8. **`disc_number`**: The number of the disc on which the track appears if the album has multiple discs.\n",
    "\n",
    "9. **`explicit`**: A boolean value indicating whether the track has explicit content. True means there is explicit content; false means there isn't.\n",
    "\n",
    "10. **`danceability`**: A measure from 0.0 to 1.0 representing how suitable a track is for dancing based on a combination of musical elements including tempo, rhythm stability, beat strength, and overall regularity.\n",
    "\n",
    "11. **`energy`**: A measure from 0.0 to 1.0 that represents a perceptual measure of intensity and activity. Typically, energetic tracks feel fast, loud, and noisy.\n",
    "\n",
    "12. **`key`**: The key the track is in. Integers map to pitches using standard Pitch Class notation.\n",
    "\n",
    "13. **`loudness`**: The overall loudness of a track in decibels (dB). Loudness values are averaged across the entire track and are useful for comparing relative loudness of tracks.\n",
    "\n",
    "14. **`mode`**: Mode indicates the modality (major or minor) of a track, the type of scale from which its melodic content is derived. Major is represented by 1 and minor is 0.\n",
    "\n",
    "15. **`speechiness`**: Speechiness detects the presence of spoken words in a track. The more exclusively speech-like the recording (e.g., talk show, audio book, poetry), the closer to 1.0 the attribute value.\n",
    "\n",
    "16. **`acousticness`**: A measure from 0.0 to 1.0 of how acoustic a track is. A score of 1.0 means the track is most likely an acoustic one.\n",
    "\n",
    "17. **`instrumentalness`**: Predicts whether a track contains no vocals. The closer the instrumentalness value is to 1.0, the greater likelihood the track contains no vocal content.\n",
    "\n",
    "18. **`liveness`**: Detects the presence of an audience in the recording. Higher liveness values represent an increased probability that the track was performed live.\n",
    "\n",
    "19. **`valence`**: A measure from 0.0 to 1.0 describing the musical positiveness conveyed by a track. Tracks with high valence sound more positive (e.g., happy, cheerful, euphoric).\n",
    "\n",
    "20. **`tempo`**: The overall estimated tempo of a track in beats per minute (BPM).\n",
    "\n",
    "21. **`duration_ms`**: The duration of the track in milliseconds.\n",
    "\n",
    "22. **`time_signature`**: An estimated overall time signature of a track. The time signature (meter) is a notational convention to specify how many beats are in each bar (or measure).\n",
    "\n",
    "23. **`year`**: The year in which the track was released.\n",
    "\n",
    "24. **`release_date`**: T of insights can be extracted from each attribute.he exact date on which the track was released."
   ]
  },
  {
   "cell_type": "code",
   "execution_count": 6,
   "id": "430993e4-224c-4453-8f2c-bc2b8bf01117",
   "metadata": {
    "ExecuteTime": {
     "end_time": "2024-04-17T18:38:12.809597Z",
     "start_time": "2024-04-17T18:38:10.763624Z"
    }
   },
   "outputs": [
    {
     "name": "stdout",
     "output_type": "stream",
     "text": [
      "+--------------------+-------+--------------------+--------------------+--------------------+--------------------+------------+-----------+--------+------------+------+---+--------+----+-----------+------------+----------------+--------+-------+-------+-----------+--------------+----+------------+\n",
      "|                  id|   name|               album|            album_id|             artists|          artist_ids|track_number|disc_number|explicit|danceability|energy|key|loudness|mode|speechiness|acousticness|instrumentalness|liveness|valence|  tempo|duration_ms|time_signature|year|release_date|\n",
      "+--------------------+-------+--------------------+--------------------+--------------------+--------------------+------------+-----------+--------+------------+------+---+--------+----+-----------+------------+----------------+--------+-------+-------+-----------+--------------+----+------------+\n",
      "|7lmeHLHBe4nmXzuXc...|Testify|The Battle Of Los...|2eia0myWFgoHuttJy...|['Rage Against Th...|['2d0hyoQ5ynDBnkv...|           1|          1|   false|        0.47| 0.978|  7|  -5.399|   1|     0.0727|      0.0261|         1.09E-5|   0.356|  0.503|117.906|     210133|           4.0|1999|  1999-11-02|\n",
      "+--------------------+-------+--------------------+--------------------+--------------------+--------------------+------------+-----------+--------+------------+------+---+--------+----+-----------+------------+----------------+--------+-------+-------+-----------+--------------+----+------------+\n"
     ]
    }
   ],
   "source": [
    "df.show(1)"
   ]
  },
  {
   "cell_type": "markdown",
   "id": "52c5b317-b8ac-4784-a0f6-fa25cd1a8478",
   "metadata": {
    "jp-MarkdownHeadingCollapsed": true
   },
   "source": [
    "## Preprocess the Data"
   ]
  },
  {
   "cell_type": "code",
   "execution_count": 7,
   "id": "24620a8c-06d9-426c-8346-690b65aa8ec2",
   "metadata": {
    "ExecuteTime": {
     "end_time": "2024-04-17T18:38:13.005124Z",
     "start_time": "2024-04-17T18:38:12.810580Z"
    }
   },
   "outputs": [],
   "source": [
    "final_df = (df\n",
    "            .dropna()\n",
    "            .select(\"name\", \n",
    "                    \"release_date\", \"year\",\n",
    "                    \"album\", \n",
    "                    \"artists\", \n",
    "                    \"track_number\", \n",
    "                    'disc_number', \n",
    "                    'explicit', \n",
    "                    'danceability', 'energy', 'loudness', 'speechiness', 'acousticness', 'instrumentalness', 'liveness', 'valence', 'tempo', \n",
    "                    'duration_ms'\n",
    "                    )\n",
    "            .withColumn(\"release_date\", F.to_date(\"release_date\", \"yyyy-MM-dd\"))\n",
    "            .withColumn(\"artists\", F.split(F.regexp_replace(\"artists\", r\"[\\[\\]']\", \"\"), \",\"))\n",
    "            .withColumn(\"duration\", F.col(\"duration_ms\") / 1000)\n",
    "            .withColumn(\"minute\", (F.col(\"duration\") / 60).cast(\"int\"))\n",
    "            .withColumn(\"second\", (F.col(\"duration\") % 60).cast(\"int\"))\n",
    "            .where(F.col('year') > 1900))"
   ]
  },
  {
   "cell_type": "code",
   "execution_count": 8,
   "id": "475f7bd8-f320-44d1-a0db-72e5b71e2113",
   "metadata": {
    "ExecuteTime": {
     "end_time": "2024-04-17T18:38:13.009241Z",
     "start_time": "2024-04-17T18:38:13.005959Z"
    }
   },
   "outputs": [
    {
     "name": "stdout",
     "output_type": "stream",
     "text": [
      "root\n",
      " |-- name: string (nullable = true)\n",
      " |-- release_date: date (nullable = true)\n",
      " |-- year: long (nullable = true)\n",
      " |-- album: string (nullable = true)\n",
      " |-- artists: array (nullable = true)\n",
      " |    |-- element: string (containsNull = false)\n",
      " |-- track_number: long (nullable = true)\n",
      " |-- disc_number: long (nullable = true)\n",
      " |-- explicit: boolean (nullable = true)\n",
      " |-- danceability: double (nullable = true)\n",
      " |-- energy: double (nullable = true)\n",
      " |-- loudness: double (nullable = true)\n",
      " |-- speechiness: double (nullable = true)\n",
      " |-- acousticness: double (nullable = true)\n",
      " |-- instrumentalness: double (nullable = true)\n",
      " |-- liveness: double (nullable = true)\n",
      " |-- valence: double (nullable = true)\n",
      " |-- tempo: double (nullable = true)\n",
      " |-- duration_ms: long (nullable = true)\n",
      " |-- duration: double (nullable = true)\n",
      " |-- minute: integer (nullable = true)\n",
      " |-- second: integer (nullable = true)\n"
     ]
    }
   ],
   "source": [
    "final_df.printSchema()"
   ]
  },
  {
   "cell_type": "code",
   "outputs": [
    {
     "name": "stderr",
     "output_type": "stream",
     "text": [
      "                                                                                \r"
     ]
    },
    {
     "data": {
      "text/plain": "1203988"
     },
     "execution_count": 9,
     "metadata": {},
     "output_type": "execute_result"
    }
   ],
   "source": [
    "final_df.count()"
   ],
   "metadata": {
    "collapsed": false,
    "ExecuteTime": {
     "end_time": "2024-04-17T18:38:14.778358Z",
     "start_time": "2024-04-17T18:38:13.010243Z"
    }
   },
   "id": "d5c2481b5d9cc7f",
   "execution_count": 9
  },
  {
   "cell_type": "code",
   "execution_count": 10,
   "id": "be631dc6-d635-42b0-a142-17191a0f15d3",
   "metadata": {
    "ExecuteTime": {
     "end_time": "2024-04-17T18:38:15.106258Z",
     "start_time": "2024-04-17T18:38:14.779303Z"
    }
   },
   "outputs": [
    {
     "name": "stdout",
     "output_type": "stream",
     "text": [
      "+--------------------+------------+----+--------------------+--------------------+------------+-----------+--------+------------+------+------------------+-----------+------------+----------------+--------+-------+-------+-----------+--------+------+------+\n",
      "|                name|release_date|year|               album|             artists|track_number|disc_number|explicit|danceability|energy|          loudness|speechiness|acousticness|instrumentalness|liveness|valence|  tempo|duration_ms|duration|minute|second|\n",
      "+--------------------+------------+----+--------------------+--------------------+------------+-----------+--------+------------+------+------------------+-----------+------------+----------------+--------+-------+-------+-----------+--------+------+------+\n",
      "|             Testify|  1999-11-02|1999|The Battle Of Los...|[Rage Against The...|           1|          1|   false|        0.47| 0.978|            -5.399|     0.0727|      0.0261|         1.09E-5|   0.356|  0.503|117.906|     210133| 210.133|     3|    30|\n",
      "|     Guerrilla Radio|  1999-11-02|1999|The Battle Of Los...|[Rage Against The...|           2|          1|    true|       0.599| 0.957|-5.763999999999999|      0.188|      0.0129|         7.06E-5|   0.155|  0.489| 103.68|     206200|   206.2|     3|    26|\n",
      "|    Calm Like a Bomb|  1999-11-02|1999|The Battle Of Los...|[Rage Against The...|           3|          1|   false|       0.315|  0.97|            -5.424|      0.483|      0.0234|         2.03E-6|   0.122|   0.37|149.749|     298893| 298.893|     4|    58|\n",
      "|           Mic Check|  1999-11-02|1999|The Battle Of Los...|[Rage Against The...|           4|          1|    true|        0.44| 0.967|             -5.83|      0.237|       0.163|         3.64E-6|   0.121|  0.574| 96.752|     213640|  213.64|     3|    33|\n",
      "|Sleep Now In the ...|  1999-11-02|1999|The Battle Of Los...|[Rage Against The...|           5|          1|   false|       0.426| 0.929|            -6.729|     0.0701|     0.00162|           0.105|  0.0789|  0.539|127.059|     205600|   205.6|     3|    25|\n",
      "+--------------------+------------+----+--------------------+--------------------+------------+-----------+--------+------------+------+------------------+-----------+------------+----------------+--------+-------+-------+-----------+--------+------+------+\n"
     ]
    }
   ],
   "source": [
    "final_df.show(5)"
   ]
  },
  {
   "cell_type": "markdown",
   "id": "5c32922f-1836-4a72-837b-083de0b35152",
   "metadata": {},
   "source": [
    "## Data Aggregation, filtering and Transformation"
   ]
  },
  {
   "cell_type": "markdown",
   "id": "f8131870-0dd9-49ac-98f7-bfb9ac569644",
   "metadata": {},
   "source": [
    "#### Average Features by Decade (danceability, energy, tempo):"
   ]
  },
  {
   "cell_type": "code",
   "execution_count": 11,
   "id": "a0b0d92e-005c-4b5a-9f6b-464a6b7ace88",
   "metadata": {
    "ExecuteTime": {
     "end_time": "2024-04-17T18:38:17.121275Z",
     "start_time": "2024-04-17T18:38:15.107222Z"
    }
   },
   "outputs": [
    {
     "name": "stderr",
     "output_type": "stream",
     "text": [
      "[Stage 8:===================================================>       (7 + 1) / 8]\r"
     ]
    },
    {
     "name": "stdout",
     "output_type": "stream",
     "text": [
      "+------+-------------------+-------------------+------------------+\n",
      "|decade|   avg_danceability|         avg_energy|         avg_tempo|\n",
      "+------+-------------------+-------------------+------------------+\n",
      "| 1900s|            0.61175|0.48000454545454546|120.53206818181819|\n",
      "| 1910s| 0.5069423076923076|0.25368711538461536|118.50019230769229|\n",
      "| 1920s| 0.6124967462039039|0.26763579175704966|114.99378741865503|\n",
      "| 1930s| 0.5720066225165568| 0.3246955849889623|117.77362693156724|\n",
      "| 1940s|0.41908728943338447| 0.2427316539050533|113.18361868300147|\n",
      "| 1950s| 0.4265659069325732| 0.2970970940170933|110.03512029123122|\n",
      "| 1960s| 0.4332575705828775|0.35044730383652145|111.94995446265953|\n",
      "| 1970s|0.48137746610021637|0.45387753244485946| 116.9468723156598|\n",
      "| 1980s|0.48064590662703166| 0.4661675850043665|117.31138901906021|\n",
      "| 1990s| 0.4635356009225934|0.40886327961685515|114.62791200799772|\n",
      "| 2000s|0.49172411811626027| 0.5045312602281498|117.28732565509728|\n",
      "| 2010s|0.49653124863226716| 0.5434798185782097|118.80398081467214|\n",
      "| 2020s| 0.5588914509072619| 0.5851358478505367|119.39857027899188|\n",
      "+------+-------------------+-------------------+------------------+\n"
     ]
    },
    {
     "name": "stderr",
     "output_type": "stream",
     "text": [
      "                                                                                \r"
     ]
    }
   ],
   "source": [
    "(final_df\n",
    " .withColumn(\"decade\", F.concat((F.floor(F.col(\"year\") / 10) * 10).cast(\"string\"), F.lit(\"s\")))\n",
    " .groupBy(\"decade\").agg(\n",
    "    F.avg(\"danceability\").alias(\"avg_danceability\"),\n",
    "    F.avg(\"energy\").alias(\"avg_energy\"),\n",
    "    F.avg(\"tempo\").alias(\"avg_tempo\"))\n",
    " .orderBy(\"decade\")\n",
    " .show())"
   ]
  },
  {
   "cell_type": "markdown",
   "id": "35e2e9e8-098c-4527-a1db-64a61b9cd847",
   "metadata": {},
   "source": [
    "#### Count of Tracks per Artist:"
   ]
  },
  {
   "cell_type": "code",
   "execution_count": 12,
   "id": "a85b1bfb-9b57-4ae0-8b42-78e87a41f7b8",
   "metadata": {
    "ExecuteTime": {
     "end_time": "2024-04-17T18:38:22.100959Z",
     "start_time": "2024-04-17T18:38:17.122305Z"
    }
   },
   "outputs": [
    {
     "name": "stderr",
     "output_type": "stream",
     "text": [
      "24/04/17 22:08:20 WARN GarbageCollectionMetrics: To enable non-built-in garbage collector(s) List(G1 Concurrent GC), users should configure it(them) to spark.eventLog.gcMetrics.youngGenerationGarbageCollectors or spark.eventLog.gcMetrics.oldGenerationGarbageCollectors\n"
     ]
    },
    {
     "name": "stdout",
     "output_type": "stream",
     "text": [
      "+----------------------------------+-----+\n",
      "|artist                            |count|\n",
      "+----------------------------------+-----+\n",
      "|Johann Sebastian Bach             |9473 |\n",
      "|Ludwig van Beethoven              |5710 |\n",
      "|Wolfgang Amadeus Mozart           |3768 |\n",
      "|George Frideric Handel            |3008 |\n",
      "|Antonio Vivaldi                   |2851 |\n",
      "| Neeme Järvi                      |2631 |\n",
      "|Franz Joseph Haydn                |2239 |\n",
      "|Sergei Prokofiev                  |2092 |\n",
      "|Pyotr Ilyich Tchaikovsky          |2036 |\n",
      "|Johannes Brahms                   |2035 |\n",
      "|Various Artists                   |2027 |\n",
      "|Frédéric Chopin                   |2024 |\n",
      "|Dmitri Shostakovich               |1952 |\n",
      "|Franz Schubert                    |1804 |\n",
      "| Richard Hickox                   |1712 |\n",
      "| BBC Philharmonic                 |1705 |\n",
      "|Robert Schumann                   |1693 |\n",
      "| Slovak Radio Symphony Orchestra  |1658 |\n",
      "| Royal Scottish National Orchestra|1621 |\n",
      "|Vitamin String Quartet            |1578 |\n",
      "+----------------------------------+-----+\n"
     ]
    },
    {
     "name": "stderr",
     "output_type": "stream",
     "text": [
      "                                                                                \r"
     ]
    }
   ],
   "source": [
    "(final_df\n",
    " .select(F.explode(\"artists\").alias(\"artist\"))\n",
    " .groupby(\"artist\")\n",
    " .count().orderBy(F.desc(\"count\"))\n",
    " .show(truncate=False))"
   ]
  },
  {
   "cell_type": "markdown",
   "source": [
    "#### Average Duration"
   ],
   "metadata": {
    "collapsed": false
   },
   "id": "945e2680ff4c81e4"
  },
  {
   "cell_type": "code",
   "outputs": [
    {
     "name": "stderr",
     "output_type": "stream",
     "text": [
      "[Stage 14:==================================================>       (7 + 1) / 8]\r"
     ]
    },
    {
     "name": "stdout",
     "output_type": "stream",
     "text": [
      "+----------------+\n",
      "|average_duration|\n",
      "+----------------+\n",
      "|           03:29|\n",
      "+----------------+\n"
     ]
    },
    {
     "name": "stderr",
     "output_type": "stream",
     "text": [
      "                                                                                \r"
     ]
    }
   ],
   "source": [
    "(final_df\n",
    " .agg(F.avg(\"minute\").cast(\"int\").alias(\"min\"), F.avg(\"second\").cast(\"int\").alias(\"sec\"))\n",
    " .select(F.concat(F.format_string(\"%02d\", \"min\"), F.lit(\":\"), F.format_string(\"%02d\", \"sec\")).alias(\"average_duration\"))\n",
    " .show())"
   ],
   "metadata": {
    "collapsed": false,
    "ExecuteTime": {
     "end_time": "2024-04-17T18:38:23.900637Z",
     "start_time": "2024-04-17T18:38:22.102576Z"
    }
   },
   "id": "409fbf20eb7aa2a",
   "execution_count": 13
  },
  {
   "cell_type": "code",
   "outputs": [],
   "source": [
    "def do_bar_plot_for_decade_of(col):\n",
    "    data = (final_df\n",
    "            .withColumn(\"decade\", F.concat((F.floor(F.col(\"year\") / 10) * 10).cast(\"string\"), F.lit(\"s\")))\n",
    "            .groupBy(\"decade\").agg(\n",
    "                F.avg(col).alias(f\"avg_{col}\"),\n",
    "            )\n",
    "            .orderBy(\"decade\")\n",
    "            .toPandas())\n",
    "    plt.figure(figsize=(14, 4))\n",
    "    plt.title(f\"Average {col.capitalize()} over Decades\")\n",
    "    plt.bar(data['decade'], data[f'avg_{col}'])\n",
    "    plt.ylabel(col.capitalize())\n",
    "    \n",
    "    plt.show()"
   ],
   "metadata": {
    "collapsed": false,
    "ExecuteTime": {
     "end_time": "2024-04-17T18:38:23.909200Z",
     "start_time": "2024-04-17T18:38:23.904017Z"
    }
   },
   "id": "a60f34fd594b370b",
   "execution_count": 14
  },
  {
   "cell_type": "markdown",
   "source": [
    "#### Bar Plots for Average Danceability for Different Decades"
   ],
   "metadata": {
    "collapsed": false
   },
   "id": "b0bc53b6af8e430d"
  },
  {
   "cell_type": "code",
   "outputs": [
    {
     "name": "stderr",
     "output_type": "stream",
     "text": [
      "                                                                                \r"
     ]
    },
    {
     "data": {
      "text/plain": "<Figure size 1400x400 with 1 Axes>",
      "image/png": "[encoded data removed]"
     },
     "metadata": {},
     "output_type": "display_data"
    }
   ],
   "source": [
    "do_bar_plot_for_decade_of(\"danceability\")"
   ],
   "metadata": {
    "collapsed": false,
    "ExecuteTime": {
     "end_time": "2024-04-17T18:38:26.647769Z",
     "start_time": "2024-04-17T18:38:23.910380Z"
    }
   },
   "id": "955c457b4d4af2db",
   "execution_count": 15
  },
  {
   "cell_type": "markdown",
   "source": [
    "#### Bar Plots for Average Energy for Different Decades"
   ],
   "metadata": {
    "collapsed": false
   },
   "id": "12176f33ce7fbffb"
  },
  {
   "cell_type": "code",
   "outputs": [
    {
     "name": "stderr",
     "output_type": "stream",
     "text": [
      "                                                                                \r"
     ]
    },
    {
     "data": {
      "text/plain": "<Figure size 1400x400 with 1 Axes>",
      "image/png": "[encoded data removed]"
     },
     "metadata": {},
     "output_type": "display_data"
    }
   ],
   "source": [
    "do_bar_plot_for_decade_of(\"energy\")"
   ],
   "metadata": {
    "collapsed": false,
    "ExecuteTime": {
     "end_time": "2024-04-17T18:38:28.553550Z",
     "start_time": "2024-04-17T18:38:26.648747Z"
    }
   },
   "id": "c67e8f17782e9f84",
   "execution_count": 16
  },
  {
   "cell_type": "markdown",
   "source": [
    "#### Bar Plots for Average Intrumentalness for Different Decades"
   ],
   "metadata": {
    "collapsed": false
   },
   "id": "6162a505b818a65d"
  },
  {
   "cell_type": "code",
   "outputs": [
    {
     "name": "stderr",
     "output_type": "stream",
     "text": [
      "                                                                                \r"
     ]
    },
    {
     "data": {
      "text/plain": "<Figure size 1400x400 with 1 Axes>",
      "image/png": "[encoded data removed]"
     },
     "metadata": {},
     "output_type": "display_data"
    }
   ],
   "source": [
    "do_bar_plot_for_decade_of(\"instrumentalness\")"
   ],
   "metadata": {
    "collapsed": false,
    "ExecuteTime": {
     "end_time": "2024-04-17T18:38:30.279403Z",
     "start_time": "2024-04-17T18:38:28.554474Z"
    }
   },
   "id": "d5cc157471ea8751",
   "execution_count": 17
  },
  {
   "cell_type": "markdown",
   "source": [
    "#### Bar Plots for Average Loudness for Different Decades"
   ],
   "metadata": {
    "collapsed": false
   },
   "id": "a3fc30f1558dd4b0"
  },
  {
   "cell_type": "code",
   "outputs": [
    {
     "name": "stderr",
     "output_type": "stream",
     "text": [
      "                                                                                \r"
     ]
    },
    {
     "data": {
      "text/plain": "<Figure size 1400x400 with 1 Axes>",
      "image/png": "[encoded data removed]"
     },
     "metadata": {},
     "output_type": "display_data"
    }
   ],
   "source": [
    "do_bar_plot_for_decade_of(\"loudness\")"
   ],
   "metadata": {
    "collapsed": false,
    "ExecuteTime": {
     "end_time": "2024-04-17T18:38:31.947396Z",
     "start_time": "2024-04-17T18:38:30.280483Z"
    }
   },
   "id": "d3e033869306b90f",
   "execution_count": 18
  },
  {
   "cell_type": "markdown",
   "id": "f244701c-c75a-4d80-98cd-81f18aa7d49a",
   "metadata": {},
   "source": [
    "## Investigating Top-K Records"
   ]
  },
  {
   "cell_type": "code",
   "execution_count": 19,
   "id": "830a4cd4-6817-4184-83a9-35b3448ad982",
   "metadata": {
    "ExecuteTime": {
     "end_time": "2024-04-17T18:38:31.950791Z",
     "start_time": "2024-04-17T18:38:31.948468Z"
    }
   },
   "outputs": [],
   "source": [
    "k = 10"
   ]
  },
  {
   "cell_type": "markdown",
   "id": "e20239c8-2892-4675-a6b9-cf664684baee",
   "metadata": {},
   "source": [
    "### Top-k Tracks by Danceability"
   ]
  },
  {
   "cell_type": "code",
   "execution_count": 20,
   "id": "bc14f7a7-6a27-4630-ba93-fe20168f1c89",
   "metadata": {
    "ExecuteTime": {
     "end_time": "2024-04-17T18:38:32.349833Z",
     "start_time": "2024-04-17T18:38:31.951681Z"
    }
   },
   "outputs": [
    {
     "name": "stdout",
     "output_type": "stream",
     "text": [
      "+------------------------------------+------------+\n",
      "|name                                |danceability|\n",
      "+------------------------------------+------------+\n",
      "|Unendlich                           |1.0         |\n",
      "|Na-try Mo Na Ba Ako                 |0.994       |\n",
      "|Roll Like Dis / Cha-cha Slide Part 2|0.993       |\n",
      "|Techno Is Not Fault                 |0.992       |\n",
      "|Aussie, Aussie (O, Sige!)           |0.991       |\n",
      "|Le casse-tête (Cannelle, Pruneau)   |0.991       |\n",
      "|New Life                            |0.99        |\n",
      "|Esther's Vice                       |0.99        |\n",
      "|Go Nuts                             |0.988       |\n",
      "|Believe In Love                     |0.988       |\n",
      "+------------------------------------+------------+\n"
     ]
    }
   ],
   "source": [
    "(df\n",
    " .select(\"name\", \"danceability\")\n",
    " .orderBy(F.desc(\"danceability\"))\n",
    " .limit(10)\n",
    " .show(truncate=False))"
   ]
  },
  {
   "cell_type": "markdown",
   "id": "14b23dba-6018-4df2-9fa0-8adbd69dfdb0",
   "metadata": {},
   "source": [
    "### Top-k Artists with the Highest Average Danceability"
   ]
  },
  {
   "cell_type": "code",
   "execution_count": 21,
   "id": "37a8e9c5-f4c0-4357-8646-51afe12ed7d8",
   "metadata": {
    "ExecuteTime": {
     "end_time": "2024-04-17T18:38:37.235622Z",
     "start_time": "2024-04-17T18:38:32.350842Z"
    }
   },
   "outputs": [
    {
     "name": "stderr",
     "output_type": "stream",
     "text": [
      "[Stage 50:==================================================>       (7 + 1) / 8]\r"
     ]
    },
    {
     "name": "stdout",
     "output_type": "stream",
     "text": [
      "+------------------+----------------+\n",
      "|            artist|avg_danceability|\n",
      "+------------------+----------------+\n",
      "|  Andrea HEinstein|           0.992|\n",
      "|           Juelz B|           0.987|\n",
      "|               Gen|           0.987|\n",
      "|Audio Soul Project|           0.986|\n",
      "|       LILDRUGHILL|           0.984|\n",
      "|              Liêm|           0.983|\n",
      "|          3rd Face|           0.981|\n",
      "|        Money Maru|           0.981|\n",
      "|       Lul Florida|            0.98|\n",
      "|      Franko Murry|            0.98|\n",
      "+------------------+----------------+\n"
     ]
    },
    {
     "name": "stderr",
     "output_type": "stream",
     "text": [
      "                                                                                \r"
     ]
    }
   ],
   "source": [
    "(final_df\n",
    " .select(F.explode(\"artists\").alias(\"artist\"), \"danceability\")\n",
    " .groupBy(\"artist\")\n",
    " .agg(F.avg(\"danceability\").alias(\"avg_danceability\"))\n",
    " .orderBy(F.desc(\"avg_danceability\"))\n",
    " .limit(k)\n",
    " .show())"
   ]
  },
  {
   "cell_type": "markdown",
   "id": "c3a68e9d-49ae-4466-8e7c-6e51db3a3731",
   "metadata": {},
   "source": [
    "### Top-k Recent Tracks"
   ]
  },
  {
   "cell_type": "code",
   "execution_count": 22,
   "id": "388a8e8a-883c-4df2-bd95-142f2d1a8a98",
   "metadata": {
    "ExecuteTime": {
     "end_time": "2024-04-17T18:38:40.535465Z",
     "start_time": "2024-04-17T18:38:37.238566Z"
    }
   },
   "outputs": [
    {
     "name": "stderr",
     "output_type": "stream",
     "text": [
      "[Stage 53:==================================================>       (7 + 1) / 8]\r"
     ]
    },
    {
     "name": "stdout",
     "output_type": "stream",
     "text": [
      "+------------------------+------------+\n",
      "|name                    |release_date|\n",
      "+------------------------+------------+\n",
      "|Red Cup                 |2020-12-18  |\n",
      "|Red Cup - Radio Edit    |2020-12-18  |\n",
      "|Red Cup - DJ Roody Remix|2020-12-18  |\n",
      "|Red Cup - BTNZ Remix    |2020-12-18  |\n",
      "|To the Beach            |2020-12-11  |\n",
      "|Coma                    |2020-12-11  |\n",
      "|Journey                 |2020-12-11  |\n",
      "|Love                    |2020-12-11  |\n",
      "|Away from You           |2020-12-11  |\n",
      "|Absolutego              |2020-12-11  |\n",
      "+------------------------+------------+\n"
     ]
    },
    {
     "name": "stderr",
     "output_type": "stream",
     "text": [
      "                                                                                \r"
     ]
    }
   ],
   "source": [
    "(final_df\n",
    " .select(\"name\", \"release_date\")\n",
    " .orderBy(F.desc(\"release_date\"))\n",
    " .limit(k)\n",
    " .show(truncate=False))"
   ]
  },
  {
   "cell_type": "markdown",
   "id": "bcb1c2cb-2d8c-4a7e-9651-dd779a12d52f",
   "metadata": {},
   "source": [
    "### Top-k Longest Tracks"
   ]
  },
  {
   "cell_type": "code",
   "execution_count": 23,
   "id": "f8d994d8-fcf7-4480-9ab9-911e24d949d4",
   "metadata": {
    "ExecuteTime": {
     "end_time": "2024-04-17T18:38:43.546250Z",
     "start_time": "2024-04-17T18:38:40.536287Z"
    }
   },
   "outputs": [
    {
     "name": "stderr",
     "output_type": "stream",
     "text": [
      "[Stage 54:==================================================>       (7 + 1) / 8]\r"
     ]
    },
    {
     "name": "stdout",
     "output_type": "stream",
     "text": [
      "+---------------------------------------------------------------------------------------------------------------------------------------+----------+------+------+--------+\n",
      "|name                                                                                                                                   |duration_s|minute|second|duration|\n",
      "+---------------------------------------------------------------------------------------------------------------------------------------+----------+------+------+--------+\n",
      "|Bargrooves Deluxe Edition 2018 Mix 2 - Continuous Mix                                                                                  |6061.09   |101   |1     |101:01  |\n",
      "|Doctorow's Third Law                                                                                                                   |6054.655  |100   |54    |100:54  |\n",
      "|Gothic Lolita                                                                                                                          |5764.624  |96    |4     |96:04   |\n",
      "|Bargrooves Deluxe Edition 2017 - Continuous Mix 2                                                                                      |5713.196  |95    |13    |95:13   |\n",
      "|Bargrooves Deluxe Edition 2018 Mix 1 - Continuous Mix                                                                                  |5679.399  |94    |39    |94:39   |\n",
      "|Monstercat Podcast Ep. 086 (Staff Picks 2015)                                                                                          |5646.226  |94    |6     |94:06   |\n",
      "|Doctorow's Second Law                                                                                                                  |5645.108  |94    |5     |94:05   |\n",
      "|Arc Angel - Continuous Mix                                                                                                             |5577.278  |92    |57    |92:57   |\n",
      "|Bargrooves Lounge (Continuous Mix 1)                                                                                                   |5531.591  |92    |11    |92:11   |\n",
      "|Los Jefes - Banda Sonora de la Película (feat. Big Man, feat. Campa, feat. Draw, feat. Millonario, feat. Sonido Caballero) - Gift Track|5440.375  |90    |40    |90:40   |\n",
      "+---------------------------------------------------------------------------------------------------------------------------------------+----------+------+------+--------+\n"
     ]
    },
    {
     "name": "stderr",
     "output_type": "stream",
     "text": [
      "                                                                                \r"
     ]
    }
   ],
   "source": [
    "(final_df\n",
    " .select(\"name\", \n",
    "         F.col(\"duration\").alias(\"duration_s\"),\n",
    "         F.col(\"minute\"),\n",
    "         F.col(\"second\"),\n",
    "         F.concat(F.format_string(\"%02d\", \"minute\"), F.lit(\":\"), F.format_string(\"%02d\", \"second\")).alias(\"duration\"))\n",
    " .orderBy(F.desc(\"duration_s\"))\n",
    " .limit(k)\n",
    " .show(truncate=False))"
   ]
  },
  {
   "cell_type": "markdown",
   "id": "831035cf-3963-42d9-8aa9-606c033abb5a",
   "metadata": {},
   "source": [
    "### Top-k Most Frequently Appearing Artists"
   ]
  },
  {
   "cell_type": "code",
   "execution_count": 24,
   "id": "576daeee-b8c7-4298-80ad-e161f6affdf8",
   "metadata": {
    "ExecuteTime": {
     "end_time": "2024-04-17T18:38:48.425522Z",
     "start_time": "2024-04-17T18:38:43.547177Z"
    }
   },
   "outputs": [
    {
     "name": "stderr",
     "output_type": "stream",
     "text": [
      "[Stage 55:==================================================>       (7 + 1) / 8]\r"
     ]
    },
    {
     "name": "stdout",
     "output_type": "stream",
     "text": [
      "+------------------------------------+---------------+\n",
      "|artist                              |track_frequency|\n",
      "+------------------------------------+---------------+\n",
      "| Arthur Rubinstein                  |627.0          |\n",
      "|Sing n Play                         |411.0          |\n",
      "|TKKG                                |295.0          |\n",
      "|Adventure Time                      |227.0          |\n",
      "|Cavedoll                            |200.0          |\n",
      "| Reginald Goodall                   |200.0          |\n",
      "| Edith Haller                       |191.0          |\n",
      "| Christa Mayer                      |187.0          |\n",
      "| Giuseppe Bruno                     |185.0          |\n",
      "| Amsterdam Baroque Orchestra & Choir|181.5          |\n",
      "+------------------------------------+---------------+\n"
     ]
    },
    {
     "name": "stderr",
     "output_type": "stream",
     "text": [
      "                                                                                \r"
     ]
    }
   ],
   "source": [
    "(final_df\n",
    " .select(F.explode(\"artists\").alias(\"artist\"), \"year\")\n",
    " .groupBy(\"artist\")\n",
    " .agg((F.count(\"artist\") / (F.max(\"year\") - F.min(\"year\"))).alias(\"track_frequency\"))\n",
    " .orderBy(F.desc(\"track_frequency\"))\n",
    " .limit(k)\n",
    " .show(truncate=False))"
   ]
  },
  {
   "cell_type": "code",
   "execution_count": 25,
   "id": "7d4d3467-c6ff-48ed-8e15-385a54636b68",
   "metadata": {
    "ExecuteTime": {
     "end_time": "2024-04-17T18:38:48.429789Z",
     "start_time": "2024-04-17T18:38:48.426911Z"
    }
   },
   "outputs": [],
   "source": [
    "# spark.stop()"
   ]
  },
  {
   "cell_type": "code",
   "execution_count": 25,
   "id": "991a43eb-6e40-44b5-b3b4-8f6809b0293e",
   "metadata": {
    "ExecuteTime": {
     "end_time": "2024-04-17T18:38:48.433410Z",
     "start_time": "2024-04-17T18:38:48.430996Z"
    }
   },
   "outputs": [],
   "source": []
  }
 ],
 "metadata": {
  "kernelspec": {
   "display_name": "Python 3 (ipykernel)",
   "language": "python",
   "name": "python3"
  },
  "language_info": {
   "codemirror_mode": {
    "name": "ipython",
    "version": 3
   },
   "file_extension": ".py",
   "mimetype": "text/x-python",
   "name": "python",
   "nbconvert_exporter": "python",
   "pygments_lexer": "ipython3",
   "version": "3.12.2"
  }
 },
 "nbformat": 4,
 "nbformat_minor": 5
}
