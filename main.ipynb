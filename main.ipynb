{
 "cells": [
  {
   "cell_type": "markdown",
   "id": "ec1bf8a8-ed2a-44de-96a9-4dbac069056b",
   "metadata": {},
   "source": [
    "# Main Task"
   ]
  },
  {
   "cell_type": "markdown",
   "id": "ac75aa4f-c762-4ea8-a9c6-785e8293a437",
   "metadata": {
    "jp-MarkdownHeadingCollapsed": true
   },
   "source": [
    "## Libraries"
   ]
  },
  {
   "cell_type": "code",
   "execution_count": 6,
   "id": "37295a18-7839-4a62-9934-4338f16bf209",
   "metadata": {},
   "outputs": [
    {
     "name": "stdout",
     "output_type": "stream",
     "text": [
      "Defaulting to user installation because normal site-packages is not writeable\n",
      "Requirement already satisfied: pyspark in c:\\users\\afraa\\appdata\\roaming\\python\\python312\\site-packages (3.5.1)\n",
      "Requirement already satisfied: py4j==0.10.9.7 in c:\\users\\afraa\\appdata\\roaming\\python\\python312\\site-packages (from pyspark) (0.10.9.7)\n"
     ]
    }
   ],
   "source": [
    "!pip install pyspark\n"
   ]
  },
  {
   "cell_type": "code",
   "execution_count": 38,
   "id": "c9b700d3-611e-422b-92d0-1503884e3b72",
   "metadata": {},
   "outputs": [],
   "source": [
    "from pyspark.sql import SparkSession\n",
    "from pyspark.sql.functions import to_date\n",
    "from pyspark.sql.functions import col, split\n",
    "from pyspark.sql.functions import avg\n",
    "from pyspark.sql.functions import desc\n",
    "from pyspark.sql.functions import count"
   ]
  },
  {
   "cell_type": "markdown",
   "id": "bbee23a0-42de-42c2-ad93-1ed88171cb7a",
   "metadata": {
    "collapsed": true,
    "jp-MarkdownHeadingCollapsed": true,
    "jupyter": {
     "outputs_hidden": true
    }
   },
   "source": [
    "## Instantiating SparkSession & Load the Dataset"
   ]
  },
  {
   "cell_type": "code",
   "execution_count": 8,
   "id": "0ec0fd18-f994-4223-bde2-3dd838d588c9",
   "metadata": {},
   "outputs": [],
   "source": [
    "spark = SparkSession.builder \\\n",
    "    .appName(\"Spotify Data Analysis\") \\\n",
    "    .getOrCreate()"
   ]
  },
  {
   "cell_type": "code",
   "execution_count": 9,
   "id": "a6860e0e-aac4-41dc-8201-8a0730b2c03a",
   "metadata": {},
   "outputs": [],
   "source": [
    "df = spark.read.parquet(\"data/spotify.parquet\")"
   ]
  },
  {
   "cell_type": "markdown",
   "id": "8f88b38c-ff74-42cf-91ef-09541ba1b05e",
   "metadata": {},
   "source": [
    "## Check the Schema"
   ]
  },
  {
   "cell_type": "code",
   "execution_count": 10,
   "id": "92641b28-a07f-4833-9513-4ac1d2f295bc",
   "metadata": {},
   "outputs": [
    {
     "name": "stdout",
     "output_type": "stream",
     "text": [
      "root\n",
      " |-- id: string (nullable = true)\n",
      " |-- name: string (nullable = true)\n",
      " |-- album: string (nullable = true)\n",
      " |-- album_id: string (nullable = true)\n",
      " |-- artists: string (nullable = true)\n",
      " |-- artist_ids: string (nullable = true)\n",
      " |-- track_number: long (nullable = true)\n",
      " |-- disc_number: long (nullable = true)\n",
      " |-- explicit: boolean (nullable = true)\n",
      " |-- danceability: double (nullable = true)\n",
      " |-- energy: double (nullable = true)\n",
      " |-- key: long (nullable = true)\n",
      " |-- loudness: double (nullable = true)\n",
      " |-- mode: long (nullable = true)\n",
      " |-- speechiness: double (nullable = true)\n",
      " |-- acousticness: double (nullable = true)\n",
      " |-- instrumentalness: double (nullable = true)\n",
      " |-- liveness: double (nullable = true)\n",
      " |-- valence: double (nullable = true)\n",
      " |-- tempo: double (nullable = true)\n",
      " |-- duration_ms: long (nullable = true)\n",
      " |-- time_signature: double (nullable = true)\n",
      " |-- year: long (nullable = true)\n",
      " |-- release_date: string (nullable = true)\n",
      "\n"
     ]
    }
   ],
   "source": [
    "df.printSchema()"
   ]
  },
  {
   "cell_type": "markdown",
   "id": "490bbb6d-ee32-442a-b514-336c76fb2735",
   "metadata": {},
   "source": [
    "\n",
    "\r\n",
    "1. **`id`**: The unique identifier for each track on Spotify. This is typically a string of characters that Spotify uses to uniquely identify a song in their system.\r\n",
    "\r\n",
    "2. **`name`**: The name of the track. This is a string that represents the title of the song.\r\n",
    "\r\n",
    "3. **`album`**: The name of the album on which the track appears. This helps in identifying collections of songs released together by an artist.\r\n",
    "\r\n",
    "4. **`album_id`**: Similar to the track ID, this is a unique identifier for the album. Useful for linking tracks to specific albums.\r\n",
    "\r\n",
    "5. **`artists`**: The name of the artist or artists who performed or created the track. This field might contain multiple names if the track has multiple artists.\r\n",
    "\r\n",
    "6. **`artist_ids`**: A unique identifier or identifiers for the artist or artists. Like `artists`, this can include multiple IDs separated by a delimiter if there are multiple artists.\r\n",
    "\r\n",
    "7. **`track_number`**: The track's position on its album. This is a numerical order of where the track appears on its respective album.\r\n",
    "\r\n",
    "8. **`disc_number`**: The number of the disc on which the track appears if the album has multiple discs.\r\n",
    "\r\n",
    "9. **`explicit`**: A boolean value indicating whether the track has explicit content. True means there is explicit content; false means there isn't.\r\n",
    "\r\n",
    "10. **`danceability`**: A measure from 0.0 to 1.0 representing how suitable a track is for dancing based on a combination of musical elements including tempo, rhythm stability, beat strength, and overall regularity.\r\n",
    "\r\n",
    "11. **`energy`**: A measure from 0.0 to 1.0 that represents a perceptual measure of intensity and activity. Typically, energetic tracks feel fast, loud, and noisy.\r\n",
    "\r\n",
    "12. **`key`**: The key the track is in. Integers map to pitches using standard Pitch Class notation.\r\n",
    "\r\n",
    "13. **`loudness`**: The overall loudness of a track in decibels (dB). Loudness values are averaged across the entire track and are useful for comparing relative loudness of tracks.\r\n",
    "\r\n",
    "14. **`mode`**: Mode indicates the modality (major or minor) of a track, the type of scale from which its melodic content is derived. Major is represented by 1 and minor is 0.\r\n",
    "\r\n",
    "15. **`speechiness`**: Speechiness detects the presence of spoken words in a track. The more exclusively speech-like the recording (e.g., talk show, audio book, poetry), the closer to 1.0 the attribute value.\r\n",
    "\r\n",
    "16. **`acousticness`**: A measure from 0.0 to 1.0 of how acoustic a track is. A score of 1.0 means the track is most likely an acoustic one.\r\n",
    "\r\n",
    "17. **`instrumentalness`**: Predicts whether a track contains no vocals. The closer the instrumentalness value is to 1.0, the greater likelihood the track contains no vocal content.\r\n",
    "\r\n",
    "18. **`liveness`**: Detects the presence of an audience in the recording. Higher liveness values represent an increased probability that the track was performed live.\r\n",
    "\r\n",
    "19. **`valence`**: A measure from 0.0 to 1.0 describing the musical positiveness conveyed by a track. Tracks with high valence sound more positive (e.g., happy, cheerful, euphoric).\r\n",
    "\r\n",
    "20. **`tempo`**: The overall estimated tempo of a track in beats per minute (BPM).\r\n",
    "\r\n",
    "21. **`duration_ms`**: The duration of the track in milliseconds.\r\n",
    "\r\n",
    "22. **`time_signature`**: An estimated overall time signature of a track. The time signature (meter) is a notational convention to specify how many beats are in each bar (or measure).\r\n",
    "\r\n",
    "23. **`year`**: The year in which the track was released.\r\n",
    "\r\n",
    "24. **`release_date`**: T of insights can be extracted from each attribute.he exact date on which the track was released."
   ]
  },
  {
   "cell_type": "code",
   "execution_count": 21,
   "id": "430993e4-224c-4453-8f2c-bc2b8bf01117",
   "metadata": {},
   "outputs": [
    {
     "name": "stdout",
     "output_type": "stream",
     "text": [
      "+--------------------+-------+--------------------+--------------------+--------------------+--------------------+------------+-----------+--------+------------+------+---+--------+----+-----------+------------+----------------+--------+-------+-------+-----------+--------------+----+------------+\n",
      "|                  id|   name|               album|            album_id|             artists|          artist_ids|track_number|disc_number|explicit|danceability|energy|key|loudness|mode|speechiness|acousticness|instrumentalness|liveness|valence|  tempo|duration_ms|time_signature|year|release_date|\n",
      "+--------------------+-------+--------------------+--------------------+--------------------+--------------------+------------+-----------+--------+------------+------+---+--------+----+-----------+------------+----------------+--------+-------+-------+-----------+--------------+----+------------+\n",
      "|7lmeHLHBe4nmXzuXc...|Testify|The Battle Of Los...|2eia0myWFgoHuttJy...|['Rage Against Th...|['2d0hyoQ5ynDBnkv...|           1|          1|   false|        0.47| 0.978|  7|  -5.399|   1|     0.0727|      0.0261|         1.09E-5|   0.356|  0.503|117.906|     210133|           4.0|1999|  1999-11-02|\n",
      "+--------------------+-------+--------------------+--------------------+--------------------+--------------------+------------+-----------+--------+------------+------+---+--------+----+-----------+------------+----------------+--------+-------+-------+-----------+--------------+----+------------+\n",
      "only showing top 1 row\n",
      "\n"
     ]
    }
   ],
   "source": [
    "df.show(1)"
   ]
  },
  {
   "cell_type": "markdown",
   "id": "52c5b317-b8ac-4784-a0f6-fa25cd1a8478",
   "metadata": {
    "jp-MarkdownHeadingCollapsed": true
   },
   "source": [
    "## Preprocess the Data"
   ]
  },
  {
   "cell_type": "code",
   "execution_count": 28,
   "id": "24620a8c-06d9-426c-8346-690b65aa8ec2",
   "metadata": {},
   "outputs": [],
   "source": [
    "df = df.withColumn(\"release_date\", to_date(\"release_date\", \"yyyy-MM-dd\"))"
   ]
  },
  {
   "cell_type": "code",
   "execution_count": 29,
   "id": "0299cff5-7499-4770-98e7-35d8c47037ed",
   "metadata": {},
   "outputs": [],
   "source": [
    "df = df.withColumn(\"artists\", split(col(\"artists\"), \";\"))"
   ]
  },
  {
   "cell_type": "code",
   "execution_count": 30,
   "id": "475f7bd8-f320-44d1-a0db-72e5b71e2113",
   "metadata": {},
   "outputs": [
    {
     "name": "stdout",
     "output_type": "stream",
     "text": [
      "root\n",
      " |-- id: string (nullable = true)\n",
      " |-- name: string (nullable = true)\n",
      " |-- album: string (nullable = true)\n",
      " |-- album_id: string (nullable = true)\n",
      " |-- artists: array (nullable = true)\n",
      " |    |-- element: string (containsNull = false)\n",
      " |-- artist_ids: string (nullable = true)\n",
      " |-- track_number: long (nullable = true)\n",
      " |-- disc_number: long (nullable = true)\n",
      " |-- explicit: boolean (nullable = true)\n",
      " |-- danceability: double (nullable = true)\n",
      " |-- energy: double (nullable = true)\n",
      " |-- key: long (nullable = true)\n",
      " |-- loudness: double (nullable = true)\n",
      " |-- mode: long (nullable = true)\n",
      " |-- speechiness: double (nullable = true)\n",
      " |-- acousticness: double (nullable = true)\n",
      " |-- instrumentalness: double (nullable = true)\n",
      " |-- liveness: double (nullable = true)\n",
      " |-- valence: double (nullable = true)\n",
      " |-- tempo: double (nullable = true)\n",
      " |-- duration_ms: long (nullable = true)\n",
      " |-- time_signature: double (nullable = true)\n",
      " |-- year: long (nullable = true)\n",
      " |-- release_date: date (nullable = true)\n",
      " |-- artists_array: array (nullable = true)\n",
      " |    |-- element: string (containsNull = false)\n",
      "\n"
     ]
    }
   ],
   "source": [
    "df.printSchema()"
   ]
  },
  {
   "cell_type": "code",
   "execution_count": 27,
   "id": "be631dc6-d635-42b0-a142-17191a0f15d3",
   "metadata": {},
   "outputs": [
    {
     "name": "stdout",
     "output_type": "stream",
     "text": [
      "+--------------------+-------+--------------------+--------------------+--------------------+--------------------+------------+-----------+--------+------------+------+---+--------+----+-----------+------------+----------------+--------+-------+-------+-----------+--------------+----+------------+--------------------+\n",
      "|                  id|   name|               album|            album_id|             artists|          artist_ids|track_number|disc_number|explicit|danceability|energy|key|loudness|mode|speechiness|acousticness|instrumentalness|liveness|valence|  tempo|duration_ms|time_signature|year|release_date|       artists_array|\n",
      "+--------------------+-------+--------------------+--------------------+--------------------+--------------------+------------+-----------+--------+------------+------+---+--------+----+-----------+------------+----------------+--------+-------+-------+-----------+--------------+----+------------+--------------------+\n",
      "|7lmeHLHBe4nmXzuXc...|Testify|The Battle Of Los...|2eia0myWFgoHuttJy...|['Rage Against Th...|['2d0hyoQ5ynDBnkv...|           1|          1|   false|        0.47| 0.978|  7|  -5.399|   1|     0.0727|      0.0261|         1.09E-5|   0.356|  0.503|117.906|     210133|           4.0|1999|  1999-11-02|[['Rage Against T...|\n",
      "+--------------------+-------+--------------------+--------------------+--------------------+--------------------+------------+-----------+--------+------------+------+---+--------+----+-----------+------------+----------------+--------+-------+-------+-----------+--------------+----+------------+--------------------+\n",
      "only showing top 1 row\n",
      "\n"
     ]
    }
   ],
   "source": [
    "df.show(1)"
   ]
  },
  {
   "cell_type": "markdown",
   "id": "5c32922f-1836-4a72-837b-083de0b35152",
   "metadata": {},
   "source": [
    "## Data Aggregation, filtering and Transformation"
   ]
  },
  {
   "cell_type": "markdown",
   "id": "f8131870-0dd9-49ac-98f7-bfb9ac569644",
   "metadata": {},
   "source": [
    "#### Average Features by Year (danceability, energy, tempo):"
   ]
  },
  {
   "cell_type": "code",
   "execution_count": 37,
   "id": "a0b0d92e-005c-4b5a-9f6b-464a6b7ace88",
   "metadata": {},
   "outputs": [
    {
     "name": "stdout",
     "output_type": "stream",
     "text": [
      "+----+-------------------+-------------------+------------------+\n",
      "|year|   avg_danceability|         avg_energy|         avg_tempo|\n",
      "+----+-------------------+-------------------+------------------+\n",
      "|   0|             0.7655|             0.5016|115.98100000000002|\n",
      "|1900| 0.4838571428571428|0.28219285714285713|128.72857142857143|\n",
      "|1908| 0.6041052631578946|0.47369473684210534|131.79973684210526|\n",
      "|1909|            0.61756|0.48479999999999995|111.96863999999998|\n",
      "|1917| 0.5069423076923076|0.25368711538461536|118.50019230769229|\n",
      "|1920|             0.5626|0.20966399999999996|         110.69708|\n",
      "|1923|            0.62888|0.23725200000000005|120.64765999999997|\n",
      "|1924| 0.6391388888888889| 0.3607916666666667|124.76100000000002|\n",
      "|1925| 0.5031632653061224|0.15212653061224485|113.51040816326527|\n",
      "|1926| 0.6359999999999999|0.26212336448598117|113.50233644859814|\n",
      "|1927| 0.6635624999999999| 0.3003770833333333|115.02968750000001|\n",
      "|1928| 0.5984912280701754|0.29645701754385967|111.89632456140346|\n",
      "|1929|         0.65803125|0.29911875000000004|        116.767625|\n",
      "|1930| 0.5812372881355932|0.35049152542372874|123.80981355932202|\n",
      "|1931| 0.6009714285714285| 0.3349428571428571|123.15474285714286|\n",
      "|1932|0.47118644067796606|0.27725932203389825|115.96508474576268|\n",
      "|1933|  0.639920634920635|0.29266666666666663|117.33790476190474|\n",
      "|1935| 0.6387999999999999|0.32280000000000003|114.38944999999998|\n",
      "|1936| 0.6403253012048196|0.24704096385542174| 116.9619397590361|\n",
      "|1937| 0.6565749999999999|          0.3107025|120.56112499999999|\n",
      "+----+-------------------+-------------------+------------------+\n",
      "only showing top 20 rows\n",
      "\n"
     ]
    }
   ],
   "source": [
    "average_features_by_year = df.groupBy(\"year\").agg(\n",
    "    avg(\"danceability\").alias(\"avg_danceability\"),\n",
    "    avg(\"energy\").alias(\"avg_energy\"),\n",
    "    avg(\"tempo\").alias(\"avg_tempo\")\n",
    ").orderBy(\"year\")\n",
    "average_features_by_year.show()\n"
   ]
  },
  {
   "cell_type": "markdown",
   "id": "35e2e9e8-098c-4527-a1db-64a61b9cd847",
   "metadata": {},
   "source": [
    "#### Count of Tracks per Artist:"
   ]
  },
  {
   "cell_type": "code",
   "execution_count": 42,
   "id": "a85b1bfb-9b57-4ae0-8b42-78e87a41f7b8",
   "metadata": {},
   "outputs": [
    {
     "name": "stdout",
     "output_type": "stream",
     "text": [
      "+--------------------+-----+\n",
      "|             artists|count|\n",
      "+--------------------+-----+\n",
      "|[['Various Artist...| 1753|\n",
      "|[['Vitamin String...| 1577|\n",
      "|[['Aretha Frankli...| 1209|\n",
      "|[['The City of Pr...| 1042|\n",
      "|[[\"Dan Gibson's S...|  997|\n",
      "|     [['Bob Dylan']]|  913|\n",
      "|      [['The Fall']]|  812|\n",
      "|[[\"Pickin' On Ser...|  774|\n",
      "|  [['Dolly Parton']]|  747|\n",
      "|[['Guided By Voic...|  739|\n",
      "|[['Dionne Warwick']]|  728|\n",
      "| [['Fleetwood Mac']]|  696|\n",
      "| [['Elvis Presley']]|  645|\n",
      "|[['Revolt Product...|  627|\n",
      "|[['Mannheim Steam...|  619|\n",
      "|   [['Udo Jürgens']]|  615|\n",
      "|[['Emmylou Harris']]|  607|\n",
      "| [['Barry Manilow']]|  605|\n",
      "|    [['Al Jarreau']]|  597|\n",
      "|[['Grant Macdonal...|  587|\n",
      "+--------------------+-----+\n",
      "only showing top 20 rows\n",
      "\n"
     ]
    }
   ],
   "source": [
    "tracks_per_artist = df.groupBy(\"artists\").count().orderBy(desc(\"count\"))\n",
    "tracks_per_artist.show()"
   ]
  },
  {
   "cell_type": "code",
   "execution_count": null,
   "id": "f4dfdc72-39ae-4542-93ec-c22cba92b211",
   "metadata": {},
   "outputs": [],
   "source": []
  },
  {
   "cell_type": "markdown",
   "id": "0103f1a6-1465-46ba-af7e-3a0e79c3eab3",
   "metadata": {},
   "source": [
    "## Exploding Array Columns"
   ]
  },
  {
   "cell_type": "code",
   "execution_count": null,
   "id": "8c28c0d1-ccf5-4b78-b19a-96b4011ec689",
   "metadata": {},
   "outputs": [],
   "source": []
  },
  {
   "cell_type": "markdown",
   "id": "f244701c-c75a-4d80-98cd-81f18aa7d49a",
   "metadata": {},
   "source": [
    "## Investigating Top-K Records"
   ]
  },
  {
   "cell_type": "code",
   "execution_count": 45,
   "id": "830a4cd4-6817-4184-83a9-35b3448ad982",
   "metadata": {},
   "outputs": [],
   "source": [
    "k = 10"
   ]
  },
  {
   "cell_type": "markdown",
   "id": "e20239c8-2892-4675-a6b9-cf664684baee",
   "metadata": {},
   "source": [
    "### Top-k Tracks by Danceability"
   ]
  },
  {
   "cell_type": "code",
   "execution_count": 48,
   "id": "bc14f7a7-6a27-4630-ba93-fe20168f1c89",
   "metadata": {},
   "outputs": [
    {
     "name": "stdout",
     "output_type": "stream",
     "text": [
      "+--------------------+------------+\n",
      "|                  id|danceability|\n",
      "+--------------------+------------+\n",
      "|3BoKFYyanZpH1TPfl...|         1.0|\n",
      "|58zc19A4974ofVuf9...|       0.994|\n",
      "|6JiORXg2PysThO2l3...|       0.993|\n",
      "|0U0M7HdfsKbyvPfSt...|       0.992|\n",
      "|5u16CUz0AZUl7pVnW...|       0.991|\n",
      "|0P1E4YNHBmOTMMS4r...|       0.991|\n",
      "|5OpZKcjLyzTy82V0s...|        0.99|\n",
      "|1gHafreKtfnubZ3A7...|        0.99|\n",
      "|7CIN4HxftOh4KEwfL...|       0.988|\n",
      "|2epnNWDJdDACv6wFL...|       0.988|\n",
      "+--------------------+------------+\n",
      "\n"
     ]
    }
   ],
   "source": [
    "top_k_danceable_tracks_ids = df.select(\"id\", \"danceability\").orderBy(desc(\"danceability\")).limit(10)\n",
    "top_k_danceable_tracks_ids.show()"
   ]
  },
  {
   "cell_type": "markdown",
   "id": "14b23dba-6018-4df2-9fa0-8adbd69dfdb0",
   "metadata": {},
   "source": [
    "### Top-k Artists with the Highest Average Danceability"
   ]
  },
  {
   "cell_type": "code",
   "execution_count": 56,
   "id": "37a8e9c5-f4c0-4357-8646-51afe12ed7d8",
   "metadata": {},
   "outputs": [
    {
     "name": "stdout",
     "output_type": "stream",
     "text": [
      "+--------------------+----------------+\n",
      "|             artists|avg_danceability|\n",
      "+--------------------+----------------+\n",
      "|[['Andrea HEinste...|           0.992|\n",
      "|[['Petey Pablo', ...|           0.987|\n",
      "|           [['Gen']]|           0.987|\n",
      "|[['Audio Soul Pro...|           0.986|\n",
      "|[['LILDRUGHILL', ...|           0.984|\n",
      "|[['Father', 'Ethe...|           0.984|\n",
      "|[['Super Flu', 'A...|           0.984|\n",
      "|        [['Baiyon']]|           0.984|\n",
      "|[['Fusion Groove ...|           0.983|\n",
      "|[['Tela', 'AK', '...|           0.981|\n",
      "+--------------------+----------------+\n",
      "\n"
     ]
    }
   ],
   "source": [
    "top_danceable_artists = df.groupBy(\"artists\").agg(avg(\"danceability\").alias(\"avg_danceability\")).orderBy(desc(\"avg_danceability\")).limit(k)\n",
    "top_danceable_artists.show()"
   ]
  },
  {
   "cell_type": "markdown",
   "id": "c3a68e9d-49ae-4466-8e7c-6e51db3a3731",
   "metadata": {},
   "source": [
    "### Top-k Recent Tracks"
   ]
  },
  {
   "cell_type": "code",
   "execution_count": 51,
   "id": "388a8e8a-883c-4df2-bd95-142f2d1a8a98",
   "metadata": {},
   "outputs": [
    {
     "name": "stdout",
     "output_type": "stream",
     "text": [
      "+--------------------+------------+\n",
      "|                  id|release_date|\n",
      "+--------------------+------------+\n",
      "|2nfBUx5R5q3BFZgmH...|  2020-12-18|\n",
      "|6BFF8inuJZQkUi5oa...|  2020-12-18|\n",
      "|0wZVfNaHdM89qAvNx...|  2020-12-18|\n",
      "|5EepKUm7NmkPL3O3R...|  2020-12-18|\n",
      "|0N4dnVnn5J6aiqrNp...|  2020-12-11|\n",
      "|5ppAcbt2Y7gOhpklB...|  2020-12-11|\n",
      "|1To9beWJvBwakDgyX...|  2020-12-11|\n",
      "|7p3Kie6LLKqOARpi6...|  2020-12-11|\n",
      "|640uPRDZr35rSH1Eg...|  2020-12-11|\n",
      "|6U42lylN4GFcawK5g...|  2020-12-11|\n",
      "+--------------------+------------+\n",
      "\n"
     ]
    }
   ],
   "source": [
    "top_k_recent_tracks_ids = df.select(\"id\", \"release_date\").orderBy(desc(\"release_date\")).limit(k)\n",
    "top_k_recent_tracks_ids.show()"
   ]
  },
  {
   "cell_type": "markdown",
   "id": "bcb1c2cb-2d8c-4a7e-9651-dd779a12d52f",
   "metadata": {},
   "source": [
    "### Top-k Longest Tracks"
   ]
  },
  {
   "cell_type": "code",
   "execution_count": 54,
   "id": "f8d994d8-fcf7-4480-9ab9-911e24d949d4",
   "metadata": {},
   "outputs": [
    {
     "name": "stdout",
     "output_type": "stream",
     "text": [
      "+--------------------+-----------+\n",
      "|                  id|duration_ms|\n",
      "+--------------------+-----------+\n",
      "|4aHjDZQr8QcEGhQ1M...|    6061090|\n",
      "|2va3aUhF7lw90dQA3...|    6054655|\n",
      "|4IGVZfgW44fYYPyPH...|    5764624|\n",
      "|6gwP9VJp0SNlzhGRc...|    5713196|\n",
      "|2tFaZzQHauQzezlYF...|    5679399|\n",
      "|07o6WfMt7dGQrx4yd...|    5646226|\n",
      "|4frGUT4FTk5lkQEhc...|    5645108|\n",
      "|3M1In6GNpQ1q3boy2...|    5577278|\n",
      "|1NFOGheRUq9Nlf5T8...|    5531591|\n",
      "|1mFE7qiOOY9TjIdlz...|    5440375|\n",
      "+--------------------+-----------+\n",
      "\n"
     ]
    }
   ],
   "source": [
    "top_k_longest_tracks_ids = df.select(\"id\", \"duration_ms\").orderBy(desc(\"duration_ms\")).limit(k)\n",
    "top_k_longest_tracks_ids.show()"
   ]
  },
  {
   "cell_type": "markdown",
   "id": "831035cf-3963-42d9-8aa9-606c033abb5a",
   "metadata": {},
   "source": [
    "### Top-k Most Frequently Appearing Artists"
   ]
  },
  {
   "cell_type": "code",
   "execution_count": 55,
   "id": "576daeee-b8c7-4298-80ad-e161f6affdf8",
   "metadata": {},
   "outputs": [
    {
     "name": "stdout",
     "output_type": "stream",
     "text": [
      "+--------------------+-----------+\n",
      "|             artists|track_count|\n",
      "+--------------------+-----------+\n",
      "|[['Various Artist...|       1753|\n",
      "|[['Vitamin String...|       1577|\n",
      "|[['Aretha Frankli...|       1209|\n",
      "|[['The City of Pr...|       1042|\n",
      "|[[\"Dan Gibson's S...|        997|\n",
      "|     [['Bob Dylan']]|        913|\n",
      "|      [['The Fall']]|        812|\n",
      "|[[\"Pickin' On Ser...|        774|\n",
      "|  [['Dolly Parton']]|        747|\n",
      "|[['Guided By Voic...|        739|\n",
      "+--------------------+-----------+\n",
      "\n"
     ]
    }
   ],
   "source": [
    "top_artists = df.groupBy(\"artists\").agg(count(\"id\").alias(\"track_count\")).orderBy(desc(\"track_count\")).limit(k)\n",
    "top_artists.show()"
   ]
  },
  {
   "cell_type": "code",
   "execution_count": 57,
   "id": "7d4d3467-c6ff-48ed-8e15-385a54636b68",
   "metadata": {},
   "outputs": [],
   "source": [
    "spark.stop()"
   ]
  },
  {
   "cell_type": "code",
   "execution_count": null,
   "id": "991a43eb-6e40-44b5-b3b4-8f6809b0293e",
   "metadata": {},
   "outputs": [],
   "source": []
  }
 ],
 "metadata": {
  "kernelspec": {
   "display_name": "Python 3 (ipykernel)",
   "language": "python",
   "name": "python3"
  },
  "language_info": {
   "codemirror_mode": {
    "name": "ipython",
    "version": 3
   },
   "file_extension": ".py",
   "mimetype": "text/x-python",
   "name": "python",
   "nbconvert_exporter": "python",
   "pygments_lexer": "ipython3",
   "version": "3.12.2"
  }
 },
 "nbformat": 4,
 "nbformat_minor": 5
}
