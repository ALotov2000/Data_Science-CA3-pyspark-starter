{
 "cells": [
  {
   "cell_type": "markdown",
   "source": [
    "# Warm-Up Section"
   ],
   "metadata": {
    "collapsed": false
   },
   "id": "b5c1ad4bc235fffe"
  },
  {
   "cell_type": "markdown",
   "source": [
    "## Libraries"
   ],
   "metadata": {
    "collapsed": false
   },
   "id": "66055638cc4bf145"
  },
  {
   "cell_type": "code",
   "execution_count": 1,
   "id": "initial_id",
   "metadata": {
    "collapsed": true,
    "ExecuteTime": {
     "end_time": "2024-04-12T22:18:07.890815Z",
     "start_time": "2024-04-12T22:18:07.697689Z"
    }
   },
   "outputs": [],
   "source": [
    "from pyspark.sql import SparkSession\n",
    "import pyspark.sql.functions as F"
   ]
  },
  {
   "cell_type": "code",
   "outputs": [],
   "source": [
    "import os\n",
    "os.environ['SPARK_LOCAL_IP'] = '127.0.0.1'"
   ],
   "metadata": {
    "collapsed": false,
    "ExecuteTime": {
     "end_time": "2024-04-12T22:18:07.895380Z",
     "start_time": "2024-04-12T22:18:07.892262Z"
    }
   },
   "id": "6db5f01d2b139048",
   "execution_count": 2
  },
  {
   "cell_type": "markdown",
   "source": [
    "## Instantiating SparkSession"
   ],
   "metadata": {
    "collapsed": false
   },
   "id": "6d271cda5595feb7"
  },
  {
   "cell_type": "code",
   "outputs": [
    {
     "name": "stderr",
     "output_type": "stream",
     "text": [
      "Setting default log level to \"WARN\".\n",
      "To adjust logging level use sc.setLogLevel(newLevel). For SparkR, use setLogLevel(newLevel).\n",
      "24/04/13 01:48:09 WARN NativeCodeLoader: Unable to load native-hadoop library for your platform... using builtin-java classes where applicable\n",
      "24/04/13 01:48:10 WARN Utils: Service 'SparkUI' could not bind on port 4040. Attempting port 4041.\n",
      "24/04/13 01:48:10 WARN Utils: Service 'SparkUI' could not bind on port 4041. Attempting port 4042.\n"
     ]
    }
   ],
   "source": [
    "spark = SparkSession.builder \\\n",
    "    .appName(\"CSV Processing\") \\\n",
    "    .getOrCreate()"
   ],
   "metadata": {
    "collapsed": false,
    "ExecuteTime": {
     "end_time": "2024-04-12T22:18:10.980277Z",
     "start_time": "2024-04-12T22:18:07.896958Z"
    }
   },
   "id": "ae735a510cbd052e",
   "execution_count": 3
  },
  {
   "cell_type": "markdown",
   "source": [
    "## 1. Reading the CSV File"
   ],
   "metadata": {
    "collapsed": false
   },
   "id": "ad931b3a55720e54"
  },
  {
   "cell_type": "code",
   "outputs": [],
   "source": [
    "df = spark.read.csv(\"./data/stocks.csv\", header=True, inferSchema=True)"
   ],
   "metadata": {
    "collapsed": false,
    "ExecuteTime": {
     "end_time": "2024-04-12T22:18:14.919101Z",
     "start_time": "2024-04-12T22:18:10.981632Z"
    }
   },
   "id": "8668d3409a8d38c6",
   "execution_count": 4
  },
  {
   "cell_type": "markdown",
   "source": [
    "## 2. Demonstrating the Schema"
   ],
   "metadata": {
    "collapsed": false
   },
   "id": "d15babee31450aa8"
  },
  {
   "cell_type": "code",
   "outputs": [
    {
     "name": "stdout",
     "output_type": "stream",
     "text": [
      "root\n",
      " |-- Date: date (nullable = true)\n",
      " |-- Open: double (nullable = true)\n",
      " |-- High: double (nullable = true)\n",
      " |-- Low: double (nullable = true)\n",
      " |-- Close: double (nullable = true)\n",
      " |-- Volume: integer (nullable = true)\n",
      " |-- Adj Close: double (nullable = true)\n"
     ]
    },
    {
     "data": {
      "text/plain": "(None, 1762)"
     },
     "execution_count": 26,
     "metadata": {},
     "output_type": "execute_result"
    }
   ],
   "source": [
    "df.printSchema()"
   ],
   "metadata": {
    "collapsed": false,
    "ExecuteTime": {
     "end_time": "2024-04-12T22:32:20.383794Z",
     "start_time": "2024-04-12T22:32:20.299828Z"
    }
   },
   "id": "a7ac21a71c9034bf",
   "execution_count": 26
  },
  {
   "cell_type": "markdown",
   "source": [
    "## 3. Filtering Records: Closing Price < 500; Selecting 'Open', 'Close', and 'Volume' Columns"
   ],
   "metadata": {
    "collapsed": false
   },
   "id": "2609c5d384e535e2"
  },
  {
   "cell_type": "code",
   "outputs": [
    {
     "name": "stdout",
     "output_type": "stream",
     "text": [
      "+------------------+------------------+---------+\n",
      "|              Open|             Close|   Volume|\n",
      "+------------------+------------------+---------+\n",
      "|        213.429998|        214.009998|123432400|\n",
      "|        214.599998|        214.379993|150476200|\n",
      "|        214.379993|        210.969995|138040000|\n",
      "|            211.75|            210.58|119282800|\n",
      "|        210.299994|211.98000499999998|111902700|\n",
      "|212.79999700000002|210.11000299999998|115557400|\n",
      "|209.18999499999998|        207.720001|148614900|\n",
      "|        207.870005|        210.650002|151473000|\n",
      "|210.11000299999998|            209.43|108223500|\n",
      "|210.92999500000002|            205.93|148516900|\n",
      "+------------------+------------------+---------+\n"
     ]
    }
   ],
   "source": [
    "offset, limit = 0, 10\n",
    "(df\n",
    " .filter(df[\"Close\"] < 500)\n",
    " .select(\"Open\", \"Close\", \"Volume\")\n",
    " .offset(offset)\n",
    " .limit(limit)\n",
    " .show())"
   ],
   "metadata": {
    "collapsed": false,
    "ExecuteTime": {
     "end_time": "2024-04-12T22:18:15.288331Z",
     "start_time": "2024-04-12T22:18:14.933086Z"
    }
   },
   "id": "bbaab01ac08ae08b",
   "execution_count": 6
  },
  {
   "cell_type": "markdown",
   "source": [
    "## 4. Filtering Records: Opening Price > 200 & Closing Price < 200"
   ],
   "metadata": {
    "collapsed": false
   },
   "id": "78d451d71f866fb4"
  },
  {
   "cell_type": "code",
   "outputs": [
    {
     "name": "stdout",
     "output_type": "stream",
     "text": [
      "+----------+------------------+----------+----------+----------+---------+------------------+\n",
      "|      Date|              Open|      High|       Low|     Close|   Volume|         Adj Close|\n",
      "+----------+------------------+----------+----------+----------+---------+------------------+\n",
      "|2010-01-22|206.78000600000001|207.499996|    197.16|    197.75|220441900|         25.620401|\n",
      "|2010-01-28|        204.930004|205.500004|198.699995|199.289995|293375600|25.819922000000002|\n",
      "|2010-01-29|        201.079996|202.199995|190.250002|192.060003|311488100|         24.883208|\n",
      "+----------+------------------+----------+----------+----------+---------+------------------+\n"
     ]
    }
   ],
   "source": [
    "(df\n",
    " .filter((df[\"Open\"] > 200) & (df[\"Close\"] < 200))\n",
    " .show())"
   ],
   "metadata": {
    "collapsed": false,
    "ExecuteTime": {
     "end_time": "2024-04-12T22:18:15.659756Z",
     "start_time": "2024-04-12T22:18:15.293282Z"
    }
   },
   "id": "570f0b756d9ed543",
   "execution_count": 7
  },
  {
   "cell_type": "markdown",
   "source": [
    "## 5. Extracting the Year"
   ],
   "metadata": {
    "collapsed": false
   },
   "id": "f91d32a45ed1de7a"
  },
  {
   "cell_type": "code",
   "outputs": [
    {
     "name": "stdout",
     "output_type": "stream",
     "text": [
      "+----------+----------+----------+------------------+------------------+---------+------------------+----+\n",
      "|      Date|      Open|      High|               Low|             Close|   Volume|         Adj Close|Year|\n",
      "+----------+----------+----------+------------------+------------------+---------+------------------+----+\n",
      "|2010-01-04|213.429998|214.499996|212.38000099999996|        214.009998|123432400|         27.727039|2010|\n",
      "|2010-01-05|214.599998|215.589994|        213.249994|        214.379993|150476200|27.774976000000002|2010|\n",
      "|2010-01-06|214.379993|    215.23|        210.750004|        210.969995|138040000|27.333178000000004|2010|\n",
      "|2010-01-07|    211.75|212.000006|        209.050005|            210.58|119282800|          27.28265|2010|\n",
      "|2010-01-08|210.299994|212.000006|209.06000500000002|211.98000499999998|111902700|         27.464034|2010|\n",
      "+----------+----------+----------+------------------+------------------+---------+------------------+----+\n"
     ]
    }
   ],
   "source": [
    "offset, limit = 0, 5\n",
    "(df.withColumn(\"Year\", F.year(\"Date\"))\n",
    " .offset(offset)\n",
    " .limit(limit)\n",
    " .show())"
   ],
   "metadata": {
    "collapsed": false,
    "ExecuteTime": {
     "end_time": "2024-04-12T22:18:15.996406Z",
     "start_time": "2024-04-12T22:18:15.661286Z"
    }
   },
   "id": "6475686165abe7b5",
   "execution_count": 8
  },
  {
   "cell_type": "markdown",
   "source": [
    "## 6. Showing Minimum Volume for Each Year"
   ],
   "metadata": {
    "collapsed": false
   },
   "id": "f5276ad9d6577d07"
  },
  {
   "cell_type": "code",
   "outputs": [
    {
     "name": "stdout",
     "output_type": "stream",
     "text": [
      "+----+---------+\n",
      "|Year|minVolume|\n",
      "+----+---------+\n",
      "|2010| 39373600|\n",
      "|2011| 44915500|\n",
      "|2012| 43938300|\n",
      "|2013| 41888700|\n",
      "|2014| 14479600|\n",
      "|2015| 13046400|\n",
      "|2016| 11475900|\n",
      "+----+---------+\n"
     ]
    }
   ],
   "source": [
    "(df\n",
    " .withColumn(\"Year\", F.year(\"Date\"))\n",
    " .groupby(\"Year\")\n",
    " .min(\"Volume\")\n",
    " .withColumnRenamed(\"min(Volume)\", \"minVolume\")\n",
    " .sort(\"Year\")\n",
    " .show())"
   ],
   "metadata": {
    "collapsed": false,
    "ExecuteTime": {
     "end_time": "2024-04-12T22:18:17.086362Z",
     "start_time": "2024-04-12T22:18:15.997797Z"
    }
   },
   "id": "cef982b0809383ff",
   "execution_count": 9
  },
  {
   "cell_type": "markdown",
   "source": [
    "## 7. Finding the Highest Low Price for Each Year and Month"
   ],
   "metadata": {
    "collapsed": false
   },
   "id": "d008d3a3b94558a7"
  },
  {
   "cell_type": "code",
   "outputs": [
    {
     "name": "stdout",
     "output_type": "stream",
     "text": [
      "+----+-----+------------------+\n",
      "|Year|Month|            maxLow|\n",
      "+----+-----+------------------+\n",
      "|2010|    1|        213.249994|\n",
      "|2010|    2|        202.000004|\n",
      "|2010|    3|        234.459999|\n",
      "|2010|    4|268.19001000000003|\n",
      "|2010|    5|        262.880009|\n",
      "|2010|    6|        271.499992|\n",
      "|2010|    7|        260.300003|\n",
      "|2010|    8|        260.549995|\n",
      "|2010|    9|        291.009998|\n",
      "|2010|   10|        314.289997|\n",
      "+----+-----+------------------+\n"
     ]
    }
   ],
   "source": [
    "offset, limit = 0, 10\n",
    "(df\n",
    " .withColumn(\"Year\", F.year(\"Date\"))\n",
    " .withColumn(\"Month\", F.month(\"Date\"))\n",
    " .groupby(\"Year\", \"Month\")\n",
    " .max(\"Low\")\n",
    " .withColumnRenamed(\"max(Low)\", \"maxLow\")\n",
    " .sort(\"Year\", \"Month\")\n",
    " .offset(offset)\n",
    " .limit(limit)\n",
    " .show(n=limit))"
   ],
   "metadata": {
    "collapsed": false,
    "ExecuteTime": {
     "end_time": "2024-04-12T22:18:17.761845Z",
     "start_time": "2024-04-12T22:18:17.088229Z"
    }
   },
   "id": "414d719652429f2a",
   "execution_count": 10
  },
  {
   "cell_type": "markdown",
   "source": [
    "## 8. Calculating Mean and Standard Deviation of High Price"
   ],
   "metadata": {
    "collapsed": false
   },
   "id": "7ebae5d08a56ef91"
  },
  {
   "cell_type": "markdown",
   "source": [
    "### Solution 1"
   ],
   "metadata": {
    "collapsed": false
   },
   "id": "26aba205cb8aeb43"
  },
  {
   "cell_type": "code",
   "outputs": [
    {
     "name": "stdout",
     "output_type": "stream",
     "text": [
      "+---------+------+\n",
      "|Criterion| Value|\n",
      "+---------+------+\n",
      "|     mean|315.91|\n",
      "|   stddev|186.90|\n",
      "+---------+------+\n"
     ]
    }
   ],
   "source": [
    "(df\n",
    " .select(\"High\")\n",
    " .summary()\n",
    " .where(F.col('summary').isin(['stddev', 'mean']))\n",
    " .withColumn(\"High\", F.col(\"High\").cast(\"double\"))\n",
    " .select(F.col('summary').alias('Criterion'), \n",
    "         F.format_number(F.col('High'), 2).alias('Value'))\n",
    " .show())"
   ],
   "metadata": {
    "collapsed": false,
    "ExecuteTime": {
     "end_time": "2024-04-12T22:18:18.831237Z",
     "start_time": "2024-04-12T22:18:17.767192Z"
    }
   },
   "id": "eb91c5bdf0d07f11",
   "execution_count": 11
  },
  {
   "cell_type": "markdown",
   "source": [
    "### Solution 2"
   ],
   "metadata": {
    "collapsed": false
   },
   "id": "696ac9904b8e12f7"
  },
  {
   "cell_type": "code",
   "outputs": [
    {
     "name": "stdout",
     "output_type": "stream",
     "text": [
      "+------+------+\n",
      "|  Mean|   Std|\n",
      "+------+------+\n",
      "|315.91|186.90|\n",
      "+------+------+\n"
     ]
    }
   ],
   "source": [
    "(df\n",
    " .select(F.format_number(F.mean(\"High\"), 2).alias(\"Mean\"),\n",
    "         F.format_number(F.stddev(\"High\"), 2).alias(\"Std\"))\n",
    " .show())"
   ],
   "metadata": {
    "collapsed": false,
    "ExecuteTime": {
     "end_time": "2024-04-12T22:18:19.157156Z",
     "start_time": "2024-04-12T22:18:18.835115Z"
    }
   },
   "id": "979f934d8ce7dd51",
   "execution_count": 12
  },
  {
   "cell_type": "markdown",
   "source": [
    "### Solution 3: (As Manual as Possible)"
   ],
   "metadata": {
    "collapsed": false
   },
   "id": "787879eaf714ad"
  },
  {
   "cell_type": "code",
   "outputs": [
    {
     "name": "stdout",
     "output_type": "stream",
     "text": [
      "+------+------+\n",
      "|  Mean|   Std|\n",
      "+------+------+\n",
      "|315.91|186.90|\n",
      "+------+------+\n"
     ]
    }
   ],
   "source": [
    "(df\n",
    " .crossJoin(df.agg((F.sum(\"High\") / F.count(\"High\")).alias(\"Mean\")))\n",
    " .agg(F.first(\"Mean\").alias(\"Mean\"), \n",
    "      F.sqrt(F.sum((F.col(\"High\") - F.col(\"Mean\")) ** 2) / (F.count(\"High\") - 1)).alias(\"Std\"))\n",
    " .select(F.format_number(\"Mean\", 2).alias(\"Mean\"),\n",
    "         F.format_number(\"Std\", 2).alias(\"Std\"))\n",
    " .show())"
   ],
   "metadata": {
    "collapsed": false,
    "ExecuteTime": {
     "end_time": "2024-04-12T22:56:38.875344Z",
     "start_time": "2024-04-12T22:56:38.378195Z"
    }
   },
   "id": "f24477b2143029a1",
   "execution_count": 55
  },
  {
   "cell_type": "code",
   "outputs": [
    {
     "name": "stdout",
     "output_type": "stream",
     "text": [
      "skipped\n"
     ]
    }
   ],
   "source": [
    "%%script echo \"skipped\"\n",
    "spark.stop()"
   ],
   "metadata": {
    "collapsed": false,
    "ExecuteTime": {
     "end_time": "2024-04-12T22:18:19.909243Z",
     "start_time": "2024-04-12T22:18:19.868051Z"
    }
   },
   "id": "9e87a1d959053ef4",
   "execution_count": 14
  }
 ],
 "metadata": {
  "kernelspec": {
   "display_name": "Python 3",
   "language": "python",
   "name": "python3"
  },
  "language_info": {
   "codemirror_mode": {
    "name": "ipython",
    "version": 2
   },
   "file_extension": ".py",
   "mimetype": "text/x-python",
   "name": "python",
   "nbconvert_exporter": "python",
   "pygments_lexer": "ipython2",
   "version": "2.7.6"
  }
 },
 "nbformat": 4,
 "nbformat_minor": 5
}
