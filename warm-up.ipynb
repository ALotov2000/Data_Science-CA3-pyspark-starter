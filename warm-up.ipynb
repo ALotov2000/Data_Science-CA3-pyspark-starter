{
 "cells": [
  {
   "cell_type": "markdown",
   "id": "b5c1ad4bc235fffe",
   "metadata": {
    "collapsed": false,
    "jupyter": {
     "outputs_hidden": false
    }
   },
   "source": [
    "# Warm-Up Section"
   ]
  },
  {
   "cell_type": "markdown",
   "id": "66055638cc4bf145",
   "metadata": {
    "collapsed": false,
    "jupyter": {
     "outputs_hidden": false
    }
   },
   "source": [
    "## Libraries"
   ]
  },
  {
   "cell_type": "code",
   "execution_count": 1,
   "id": "f2d360ef-3ba5-41af-a792-792c75c8e642",
   "metadata": {},
   "outputs": [
    {
     "name": "stdout",
     "output_type": "stream",
     "text": [
      "Defaulting to user installation because normal site-packages is not writeable\n",
      "Requirement already satisfied: pyspark in c:\\users\\afraa\\appdata\\roaming\\python\\python312\\site-packages (3.5.1)\n",
      "Requirement already satisfied: py4j==0.10.9.7 in c:\\users\\afraa\\appdata\\roaming\\python\\python312\\site-packages (from pyspark) (0.10.9.7)\n"
     ]
    }
   ],
   "source": [
    "!pip install pyspark\n"
   ]
  },
  {
   "cell_type": "code",
   "execution_count": 2,
   "id": "initial_id",
   "metadata": {
    "ExecuteTime": {
     "end_time": "2024-04-12T22:18:07.890815Z",
     "start_time": "2024-04-12T22:18:07.697689Z"
    }
   },
   "outputs": [],
   "source": [
    "from pyspark.sql import SparkSession\n",
    "import pyspark.sql.functions as F"
   ]
  },
  {
   "cell_type": "code",
   "execution_count": 3,
   "id": "6db5f01d2b139048",
   "metadata": {
    "ExecuteTime": {
     "end_time": "2024-04-12T22:18:07.895380Z",
     "start_time": "2024-04-12T22:18:07.892262Z"
    },
    "collapsed": false,
    "jupyter": {
     "outputs_hidden": false
    }
   },
   "outputs": [],
   "source": [
    "import os\n",
    "os.environ['SPARK_LOCAL_IP'] = '127.0.0.1'"
   ]
  },
  {
   "cell_type": "markdown",
   "id": "6d271cda5595feb7",
   "metadata": {
    "collapsed": false,
    "jupyter": {
     "outputs_hidden": false
    }
   },
   "source": [
    "## Instantiating SparkSession"
   ]
  },
  {
   "cell_type": "code",
   "execution_count": 4,
   "id": "ae735a510cbd052e",
   "metadata": {
    "ExecuteTime": {
     "end_time": "2024-04-12T22:18:10.980277Z",
     "start_time": "2024-04-12T22:18:07.896958Z"
    },
    "collapsed": false,
    "jupyter": {
     "outputs_hidden": false
    }
   },
   "outputs": [],
   "source": [
    "spark = SparkSession.builder \\\n",
    "    .appName(\"CSV Processing\") \\\n",
    "    .getOrCreate()"
   ]
  },
  {
   "cell_type": "markdown",
   "id": "ad931b3a55720e54",
   "metadata": {
    "collapsed": false,
    "jupyter": {
     "outputs_hidden": false
    }
   },
   "source": [
    "## 1. Reading the CSV File"
   ]
  },
  {
   "cell_type": "code",
   "execution_count": 5,
   "id": "8668d3409a8d38c6",
   "metadata": {
    "ExecuteTime": {
     "end_time": "2024-04-12T22:18:14.919101Z",
     "start_time": "2024-04-12T22:18:10.981632Z"
    },
    "collapsed": false,
    "jupyter": {
     "outputs_hidden": false
    }
   },
   "outputs": [],
   "source": [
    "df = spark.read.csv(\"./data/stocks.csv\", header=True, inferSchema=True)"
   ]
  },
  {
   "cell_type": "markdown",
   "id": "d15babee31450aa8",
   "metadata": {
    "collapsed": false,
    "jupyter": {
     "outputs_hidden": false
    }
   },
   "source": [
    "## 2. Demonstrating the Schema"
   ]
  },
  {
   "cell_type": "code",
   "execution_count": 6,
   "id": "a7ac21a71c9034bf",
   "metadata": {
    "ExecuteTime": {
     "end_time": "2024-04-12T22:32:20.383794Z",
     "start_time": "2024-04-12T22:32:20.299828Z"
    },
    "collapsed": false,
    "jupyter": {
     "outputs_hidden": false
    }
   },
   "outputs": [
    {
     "name": "stdout",
     "output_type": "stream",
     "text": [
      "root\n",
      " |-- Date: date (nullable = true)\n",
      " |-- Open: double (nullable = true)\n",
      " |-- High: double (nullable = true)\n",
      " |-- Low: double (nullable = true)\n",
      " |-- Close: double (nullable = true)\n",
      " |-- Volume: integer (nullable = true)\n",
      " |-- Adj Close: double (nullable = true)\n",
      "\n"
     ]
    }
   ],
   "source": [
    "df.printSchema()"
   ]
  },
  {
   "cell_type": "markdown",
   "id": "2609c5d384e535e2",
   "metadata": {
    "collapsed": false,
    "jupyter": {
     "outputs_hidden": false
    }
   },
   "source": [
    "## 3. Filtering Records: Closing Price < 500; Selecting 'Open', 'Close', and 'Volume' Columns"
   ]
  },
  {
   "cell_type": "code",
   "execution_count": 7,
   "id": "bbaab01ac08ae08b",
   "metadata": {
    "ExecuteTime": {
     "end_time": "2024-04-12T22:18:15.288331Z",
     "start_time": "2024-04-12T22:18:14.933086Z"
    },
    "collapsed": false,
    "jupyter": {
     "outputs_hidden": false
    }
   },
   "outputs": [
    {
     "name": "stdout",
     "output_type": "stream",
     "text": [
      "+------------------+------------------+---------+\n",
      "|              Open|             Close|   Volume|\n",
      "+------------------+------------------+---------+\n",
      "|        213.429998|        214.009998|123432400|\n",
      "|        214.599998|        214.379993|150476200|\n",
      "|        214.379993|        210.969995|138040000|\n",
      "|            211.75|            210.58|119282800|\n",
      "|        210.299994|211.98000499999998|111902700|\n",
      "|212.79999700000002|210.11000299999998|115557400|\n",
      "|209.18999499999998|        207.720001|148614900|\n",
      "|        207.870005|        210.650002|151473000|\n",
      "|210.11000299999998|            209.43|108223500|\n",
      "|210.92999500000002|            205.93|148516900|\n",
      "+------------------+------------------+---------+\n",
      "\n"
     ]
    }
   ],
   "source": [
    "offset, limit = 0, 10\n",
    "(df\n",
    " .filter(df[\"Close\"] < 500)\n",
    " .select(\"Open\", \"Close\", \"Volume\")\n",
    " .offset(offset)\n",
    " .limit(limit)\n",
    " .show())"
   ]
  },
  {
   "cell_type": "markdown",
   "id": "78d451d71f866fb4",
   "metadata": {
    "collapsed": false,
    "jupyter": {
     "outputs_hidden": false
    }
   },
   "source": [
    "## 4. Filtering Records: Opening Price > 200 & Closing Price < 200"
   ]
  },
  {
   "cell_type": "code",
   "execution_count": 8,
   "id": "570f0b756d9ed543",
   "metadata": {
    "ExecuteTime": {
     "end_time": "2024-04-12T22:18:15.659756Z",
     "start_time": "2024-04-12T22:18:15.293282Z"
    },
    "collapsed": false,
    "jupyter": {
     "outputs_hidden": false
    }
   },
   "outputs": [
    {
     "name": "stdout",
     "output_type": "stream",
     "text": [
      "+----------+------------------+----------+----------+----------+---------+------------------+\n",
      "|      Date|              Open|      High|       Low|     Close|   Volume|         Adj Close|\n",
      "+----------+------------------+----------+----------+----------+---------+------------------+\n",
      "|2010-01-22|206.78000600000001|207.499996|    197.16|    197.75|220441900|         25.620401|\n",
      "|2010-01-28|        204.930004|205.500004|198.699995|199.289995|293375600|25.819922000000002|\n",
      "|2010-01-29|        201.079996|202.199995|190.250002|192.060003|311488100|         24.883208|\n",
      "+----------+------------------+----------+----------+----------+---------+------------------+\n",
      "\n"
     ]
    }
   ],
   "source": [
    "(df\n",
    " .filter((df[\"Open\"] > 200) & (df[\"Close\"] < 200))\n",
    " .show())"
   ]
  },
  {
   "cell_type": "markdown",
   "id": "f91d32a45ed1de7a",
   "metadata": {
    "collapsed": false,
    "jupyter": {
     "outputs_hidden": false
    }
   },
   "source": [
    "## 5. Extracting the Year"
   ]
  },
  {
   "cell_type": "code",
   "execution_count": 9,
   "id": "6475686165abe7b5",
   "metadata": {
    "ExecuteTime": {
     "end_time": "2024-04-12T22:18:15.996406Z",
     "start_time": "2024-04-12T22:18:15.661286Z"
    },
    "collapsed": false,
    "jupyter": {
     "outputs_hidden": false
    }
   },
   "outputs": [
    {
     "name": "stdout",
     "output_type": "stream",
     "text": [
      "+----------+----------+----------+------------------+------------------+---------+------------------+----+\n",
      "|      Date|      Open|      High|               Low|             Close|   Volume|         Adj Close|Year|\n",
      "+----------+----------+----------+------------------+------------------+---------+------------------+----+\n",
      "|2010-01-04|213.429998|214.499996|212.38000099999996|        214.009998|123432400|         27.727039|2010|\n",
      "|2010-01-05|214.599998|215.589994|        213.249994|        214.379993|150476200|27.774976000000002|2010|\n",
      "|2010-01-06|214.379993|    215.23|        210.750004|        210.969995|138040000|27.333178000000004|2010|\n",
      "|2010-01-07|    211.75|212.000006|        209.050005|            210.58|119282800|          27.28265|2010|\n",
      "|2010-01-08|210.299994|212.000006|209.06000500000002|211.98000499999998|111902700|         27.464034|2010|\n",
      "+----------+----------+----------+------------------+------------------+---------+------------------+----+\n",
      "\n"
     ]
    }
   ],
   "source": [
    "offset, limit = 0, 5\n",
    "(df.withColumn(\"Year\", F.year(\"Date\"))\n",
    " .offset(offset)\n",
    " .limit(limit)\n",
    " .show())"
   ]
  },
  {
   "cell_type": "markdown",
   "id": "f5276ad9d6577d07",
   "metadata": {
    "collapsed": false,
    "jupyter": {
     "outputs_hidden": false
    }
   },
   "source": [
    "## 6. Showing Minimum Volume for Each Year"
   ]
  },
  {
   "cell_type": "code",
   "execution_count": 10,
   "id": "cef982b0809383ff",
   "metadata": {
    "ExecuteTime": {
     "end_time": "2024-04-12T22:18:17.086362Z",
     "start_time": "2024-04-12T22:18:15.997797Z"
    },
    "collapsed": false,
    "jupyter": {
     "outputs_hidden": false
    }
   },
   "outputs": [
    {
     "name": "stdout",
     "output_type": "stream",
     "text": [
      "+----+---------+\n",
      "|Year|minVolume|\n",
      "+----+---------+\n",
      "|2010| 39373600|\n",
      "|2011| 44915500|\n",
      "|2012| 43938300|\n",
      "|2013| 41888700|\n",
      "|2014| 14479600|\n",
      "|2015| 13046400|\n",
      "|2016| 11475900|\n",
      "+----+---------+\n",
      "\n"
     ]
    }
   ],
   "source": [
    "(df\n",
    " .withColumn(\"Year\", F.year(\"Date\"))\n",
    " .groupby(\"Year\")\n",
    " .min(\"Volume\")\n",
    " .withColumnRenamed(\"min(Volume)\", \"minVolume\")\n",
    " .sort(\"Year\")\n",
    " .show())"
   ]
  },
  {
   "cell_type": "markdown",
   "id": "d008d3a3b94558a7",
   "metadata": {
    "collapsed": false,
    "jupyter": {
     "outputs_hidden": false
    }
   },
   "source": [
    "## 7. Finding the Highest Low Price for Each Year and Month"
   ]
  },
  {
   "cell_type": "code",
   "execution_count": 11,
   "id": "414d719652429f2a",
   "metadata": {
    "ExecuteTime": {
     "end_time": "2024-04-12T22:18:17.761845Z",
     "start_time": "2024-04-12T22:18:17.088229Z"
    },
    "collapsed": false,
    "jupyter": {
     "outputs_hidden": false
    }
   },
   "outputs": [
    {
     "name": "stdout",
     "output_type": "stream",
     "text": [
      "+----+-----+------------------+\n",
      "|Year|Month|            maxLow|\n",
      "+----+-----+------------------+\n",
      "|2010|    1|        213.249994|\n",
      "|2010|    2|        202.000004|\n",
      "|2010|    3|        234.459999|\n",
      "|2010|    4|268.19001000000003|\n",
      "|2010|    5|        262.880009|\n",
      "|2010|    6|        271.499992|\n",
      "|2010|    7|        260.300003|\n",
      "|2010|    8|        260.549995|\n",
      "|2010|    9|        291.009998|\n",
      "|2010|   10|        314.289997|\n",
      "+----+-----+------------------+\n",
      "\n"
     ]
    }
   ],
   "source": [
    "offset, limit = 0, 10\n",
    "(df\n",
    " .withColumn(\"Year\", F.year(\"Date\"))\n",
    " .withColumn(\"Month\", F.month(\"Date\"))\n",
    " .groupby(\"Year\", \"Month\")\n",
    " .max(\"Low\")\n",
    " .withColumnRenamed(\"max(Low)\", \"maxLow\")\n",
    " .sort(\"Year\", \"Month\")\n",
    " .offset(offset)\n",
    " .limit(limit)\n",
    " .show(n=limit))"
   ]
  },
  {
   "cell_type": "markdown",
   "id": "7ebae5d08a56ef91",
   "metadata": {
    "collapsed": false,
    "jupyter": {
     "outputs_hidden": false
    }
   },
   "source": [
    "## 8. Calculating Mean and Standard Deviation of High Price"
   ]
  },
  {
   "cell_type": "markdown",
   "id": "26aba205cb8aeb43",
   "metadata": {
    "collapsed": false,
    "jupyter": {
     "outputs_hidden": false
    }
   },
   "source": [
    "### Solution 1"
   ]
  },
  {
   "cell_type": "code",
   "execution_count": 12,
   "id": "eb91c5bdf0d07f11",
   "metadata": {
    "ExecuteTime": {
     "end_time": "2024-04-12T22:18:18.831237Z",
     "start_time": "2024-04-12T22:18:17.767192Z"
    },
    "collapsed": false,
    "jupyter": {
     "outputs_hidden": false
    }
   },
   "outputs": [
    {
     "name": "stdout",
     "output_type": "stream",
     "text": [
      "+---------+------+\n",
      "|Criterion| Value|\n",
      "+---------+------+\n",
      "|     mean|315.91|\n",
      "|   stddev|186.90|\n",
      "+---------+------+\n",
      "\n"
     ]
    }
   ],
   "source": [
    "(df\n",
    " .select(\"High\")\n",
    " .summary()\n",
    " .where(F.col('summary').isin(['stddev', 'mean']))\n",
    " .withColumn(\"High\", F.col(\"High\").cast(\"double\"))\n",
    " .select(F.col('summary').alias('Criterion'), \n",
    "         F.format_number(F.col('High'), 2).alias('Value'))\n",
    " .show())"
   ]
  },
  {
   "cell_type": "markdown",
   "id": "696ac9904b8e12f7",
   "metadata": {
    "collapsed": false,
    "jupyter": {
     "outputs_hidden": false
    }
   },
   "source": [
    "### Solution 2"
   ]
  },
  {
   "cell_type": "code",
   "execution_count": 13,
   "id": "979f934d8ce7dd51",
   "metadata": {
    "ExecuteTime": {
     "end_time": "2024-04-12T22:18:19.157156Z",
     "start_time": "2024-04-12T22:18:18.835115Z"
    },
    "collapsed": false,
    "jupyter": {
     "outputs_hidden": false
    }
   },
   "outputs": [
    {
     "name": "stdout",
     "output_type": "stream",
     "text": [
      "+------+------+\n",
      "|  Mean|   Std|\n",
      "+------+------+\n",
      "|315.91|186.90|\n",
      "+------+------+\n",
      "\n"
     ]
    }
   ],
   "source": [
    "(df\n",
    " .select(F.format_number(F.mean(\"High\"), 2).alias(\"Mean\"),\n",
    "         F.format_number(F.stddev(\"High\"), 2).alias(\"Std\"))\n",
    " .show())"
   ]
  },
  {
   "cell_type": "markdown",
   "id": "787879eaf714ad",
   "metadata": {
    "collapsed": false,
    "jupyter": {
     "outputs_hidden": false
    }
   },
   "source": [
    "### Solution 3: (As Manual as Possible)"
   ]
  },
  {
   "cell_type": "code",
   "execution_count": 14,
   "id": "f24477b2143029a1",
   "metadata": {
    "ExecuteTime": {
     "end_time": "2024-04-12T22:56:38.875344Z",
     "start_time": "2024-04-12T22:56:38.378195Z"
    },
    "collapsed": false,
    "jupyter": {
     "outputs_hidden": false
    }
   },
   "outputs": [
    {
     "name": "stdout",
     "output_type": "stream",
     "text": [
      "+------+------+\n",
      "|  Mean|   Std|\n",
      "+------+------+\n",
      "|315.91|186.90|\n",
      "+------+------+\n",
      "\n"
     ]
    }
   ],
   "source": [
    "(df\n",
    " .crossJoin(df.agg((F.sum(\"High\") / F.count(\"High\")).alias(\"Mean\")))\n",
    " .agg(F.first(\"Mean\").alias(\"Mean\"), \n",
    "      F.sqrt(F.sum((F.col(\"High\") - F.col(\"Mean\")) ** 2) / (F.count(\"High\") - 1)).alias(\"Std\"))\n",
    " .select(F.format_number(\"Mean\", 2).alias(\"Mean\"),\n",
    "         F.format_number(\"Std\", 2).alias(\"Std\"))\n",
    " .show())"
   ]
  },
  {
   "cell_type": "code",
   "execution_count": 18,
   "id": "9e87a1d959053ef4",
   "metadata": {
    "ExecuteTime": {
     "end_time": "2024-04-12T22:18:19.909243Z",
     "start_time": "2024-04-12T22:18:19.868051Z"
    },
    "collapsed": false,
    "jupyter": {
     "outputs_hidden": false
    },
    "scrolled": true
   },
   "outputs": [
    {
     "name": "stdout",
     "output_type": "stream",
     "text": [
      "Couldn't find program: 'echo'\n"
     ]
    }
   ],
   "source": [
    "%%script echo \"skipped\"\n",
    "spark.stop()"
   ]
  },
  {
   "cell_type": "code",
   "execution_count": null,
   "id": "e783a855-571d-4391-8cf6-2db87b297ac4",
   "metadata": {},
   "outputs": [],
   "source": []
  }
 ],
 "metadata": {
  "kernelspec": {
   "display_name": "Python 3 (ipykernel)",
   "language": "python",
   "name": "python3"
  },
  "language_info": {
   "codemirror_mode": {
    "name": "ipython",
    "version": 3
   },
   "file_extension": ".py",
   "mimetype": "text/x-python",
   "name": "python",
   "nbconvert_exporter": "python",
   "pygments_lexer": "ipython3",
   "version": "3.12.2"
  }
 },
 "nbformat": 4,
 "nbformat_minor": 5
}
